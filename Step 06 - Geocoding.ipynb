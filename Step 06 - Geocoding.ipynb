{
 "cells": [
  {
   "cell_type": "markdown",
   "metadata": {
    "id": "WJyDYMTq-rGx"
   },
   "source": [
    "For all orgs that made the cut 1\n",
    "* we want to enrich them with county statistics\n",
    "* this requires ein-county mapping\n",
    "* which requires finding the lat-lon coordinates of an org from address so we can check which county contains the given coordinates using shapefiles (first match is selected)\n",
    "* which requires using Google Maps GeoCoding API\n",
    "\n",
    "Geocoding API is expensive so we want to limit the lookups to the orgs that made the first cut and get their unique set of addresses (multiple orgs could be using the same address)\n",
    "\n",
    "\n",
    "\n"
   ]
  },
  {
   "cell_type": "code",
   "execution_count": null,
   "metadata": {
    "colab": {
     "base_uri": "https://localhost:8080/"
    },
    "executionInfo": {
     "elapsed": 7472,
     "status": "ok",
     "timestamp": 1707960135388,
     "user": {
      "displayName": "",
      "userId": ""
     },
     "user_tz": 0
    },
    "id": "QEcZKrZJS3xY",
    "outputId": "44a8a3a1-d4d8-47dc-83e6-6b3607b9d5b8"
   },
   "outputs": [],
   "source": [
    "!pip install googlemaps rtree"
   ]
  },
  {
   "cell_type": "code",
   "execution_count": null,
   "metadata": {
    "executionInfo": {
     "elapsed": 306,
     "status": "ok",
     "timestamp": 1707962353710,
     "user": {
      "displayName": "",
      "userId": ""
     },
     "user_tz": 0
    },
    "id": "0lRsCNIyAkq9"
   },
   "outputs": [],
   "source": [
    "# Native modules\n",
    "import csv\n",
    "import time\n",
    "import zipfile\n",
    "\n",
    "# External modules\n",
    "import fiona\n",
    "import googlemaps\n",
    "import pandas as pd\n",
    "import requests\n",
    "import rtree\n",
    "import shapely\n",
    "\n",
    "from google.cloud import bigquery, storage\n"
   ]
  },
  {
   "cell_type": "code",
   "execution_count": null,
   "metadata": {
    "executionInfo": {
     "elapsed": 303,
     "status": "ok",
     "timestamp": 1707962366518,
     "user": {
      "displayName": "",
      "userId": ""
     },
     "user_tz": 0
    },
    "id": "ev6tToP7SvfD"
   },
   "outputs": [],
   "source": [
    "API_KEY = \"INSERT API KEY\"\n",
    "location = \"INSERT LOCATION\"\n",
    "project_id = \"INSERT PROJECT ID\"\n",
    "bucket_name = \"INSERT BUCKET NAME\"\n",
    "prefix = \"irs-form-990\""
   ]
  },
  {
   "cell_type": "code",
   "execution_count": null,
   "metadata": {
    "executionInfo": {
     "elapsed": 1,
     "status": "ok",
     "timestamp": 1707959182173,
     "user": {
      "displayName": "",
      "userId": ""
     },
     "user_tz": 0
    },
    "id": "4cemmml1TKX6"
   },
   "outputs": [],
   "source": [
    "gmaps = googlemaps.Client(key=API_KEY)"
   ]
  },
  {
   "cell_type": "code",
   "execution_count": null,
   "metadata": {
    "executionInfo": {
     "elapsed": 330,
     "status": "ok",
     "timestamp": 1707959725605,
     "user": {
      "displayName": "",
      "userId": ""
     },
     "user_tz": 0
    },
    "id": "3ga2OEOoTOtK"
   },
   "outputs": [],
   "source": [
    "client = bigquery.Client(location=location)"
   ]
  },
  {
   "cell_type": "code",
   "execution_count": null,
   "metadata": {
    "executionInfo": {
     "elapsed": 300,
     "status": "ok",
     "timestamp": 1707959667289,
     "user": {
      "displayName": "",
      "userId": ""
     },
     "user_tz": 0
    },
    "id": "HbgRXf3gUyjb"
   },
   "outputs": [],
   "source": [
    "# Identify the list of EINs and their address that require a geocoding lookup\n",
    "query = \"\"\"\n",
    "SELECT ein, CONCAT(TRIM(address), ', ', TRIM(city), ', ', TRIM(state), ', ', zip) AS combined_address\n",
    "FROM analysis.cut_2_v20240212_filtered\n",
    "WHERE geo_id IS NULL\n",
    "AND CAST(ein AS STRING) NOT IN (SELECT DISTINCT ein FROM reference.ein_lat_lon_2022)\n",
    "\"\"\"\n"
   ]
  },
  {
   "cell_type": "code",
   "execution_count": null,
   "metadata": {
    "executionInfo": {
     "elapsed": 1353,
     "status": "ok",
     "timestamp": 1707959728793,
     "user": {
      "displayName": "",
      "userId": ""
     },
     "user_tz": 0
    },
    "id": "EdaZAt9TVQ1b"
   },
   "outputs": [],
   "source": [
    "query_job = client.query(query)"
   ]
  },
  {
   "cell_type": "code",
   "execution_count": null,
   "metadata": {
    "executionInfo": {
     "elapsed": 1120,
     "status": "ok",
     "timestamp": 1707959739373,
     "user": {
      "displayName": "",
      "userId": ""
     },
     "user_tz": 0
    },
    "id": "iLePg0RDVViD"
   },
   "outputs": [],
   "source": [
    "orgs = query_job.to_dataframe()"
   ]
  },
  {
   "cell_type": "code",
   "execution_count": null,
   "metadata": {
    "colab": {
     "base_uri": "https://localhost:8080/",
     "height": 53
    },
    "executionInfo": {
     "elapsed": 312,
     "status": "ok",
     "timestamp": 1707959746529,
     "user": {
      "displayName": "",
      "userId": ""
     },
     "user_tz": 0
    },
    "id": "5xsrKfSrVXfV",
    "outputId": "5dcecc6c-8f91-406b-a31c-52d9daceb098"
   },
   "outputs": [],
   "source": [
    "orgs.head()"
   ]
  },
  {
   "cell_type": "code",
   "execution_count": null,
   "metadata": {
    "executionInfo": {
     "elapsed": 303,
     "status": "ok",
     "timestamp": 1707959816552,
     "user": {
      "displayName": "",
      "userId": ""
     },
     "user_tz": 0
    },
    "id": "28xjx7otVatl"
   },
   "outputs": [],
   "source": [
    "# Find the geocodes for each organization\n",
    "\n",
    "with open('orgs_without_coordinates.csv', 'w', newline='', encoding=\"utf-8\") as csvfile:\n",
    "    writer = csv.writer(csvfile)\n",
    "    writer.writerow(['ein', 'latitude', 'longitude'])\n",
    "\n",
    "    for index, org in enumerate(orgs.itertuples()):\n",
    "        ein = org.ein\n",
    "        address = org.combined_address\n",
    "        geocode = gmaps.geocode(address)\n",
    "        if len(geocode) == 0:\n",
    "            lat = None\n",
    "            lng = None\n",
    "        else:\n",
    "            lat = geocode[0]['geometry']['location']['lat']\n",
    "            lng = geocode[0]['geometry']['location']['lng']\n",
    "\n",
    "        writer.writerow([ein, lat, lng])\n",
    "\n",
    "        if index % 10000 == 0:\n",
    "            print(time.strftime(\"%Y-%m-%d %H:%M:%S\", time.localtime()), index)\n"
   ]
  },
  {
   "cell_type": "code",
   "execution_count": null,
   "metadata": {
    "executionInfo": {
     "elapsed": 301,
     "status": "ok",
     "timestamp": 1707959865477,
     "user": {
      "displayName": "",
      "userId": ""
     },
     "user_tz": 0
    },
    "id": "TgOFwkzxVzMr"
   },
   "outputs": [],
   "source": [
    "df = pd.read_csv('orgs_without_coordinates.csv')"
   ]
  },
  {
   "cell_type": "code",
   "execution_count": null,
   "metadata": {
    "colab": {
     "base_uri": "https://localhost:8080/",
     "height": 53
    },
    "executionInfo": {
     "elapsed": 3,
     "status": "ok",
     "timestamp": 1707959902223,
     "user": {
      "displayName": "",
      "userId": ""
     },
     "user_tz": 0
    },
    "id": "fMWDRPhVV9Wa",
    "outputId": "869640af-6dbc-4685-f6ff-94269ad9e2f2"
   },
   "outputs": [],
   "source": [
    "df"
   ]
  },
  {
   "cell_type": "code",
   "execution_count": null,
   "metadata": {
    "executionInfo": {
     "elapsed": 281,
     "status": "ok",
     "timestamp": 1707959881874,
     "user": {
      "displayName": "",
      "userId": ""
     },
     "user_tz": 0
    },
    "id": "MTlOpBm3V4gZ"
   },
   "outputs": [],
   "source": [
    "# Set EIN to string\n",
    "df['ein'] = df['ein'].astype(str)"
   ]
  },
  {
   "cell_type": "code",
   "execution_count": null,
   "metadata": {
    "colab": {
     "base_uri": "https://localhost:8080/"
    },
    "executionInfo": {
     "elapsed": 2826,
     "status": "ok",
     "timestamp": 1707959921689,
     "user": {
      "displayName": "",
      "userId": ""
     },
     "user_tz": 0
    },
    "id": "HBTBYzHeV8lT",
    "outputId": "33a4af0a-3862-4697-818b-db188a65c1a2"
   },
   "outputs": [],
   "source": [
    "table_id = \"reference.ein_lat_lon_2022\"\n",
    "job_config = bigquery.LoadJobConfig(\n",
    "    write_disposition=\"WRITE_APPEND\",\n",
    ")\n",
    "\n",
    "job = client.load_table_from_dataframe(df, table_id, job_config=job_config)\n",
    "\n",
    "job.result()  # Waits for the job to complete"
   ]
  },
  {
   "cell_type": "markdown",
   "metadata": {
    "id": "wPJKE52DWblO"
   },
   "source": [
    "Now we have the coordinates for all EINs, time to find their county using shapefiles"
   ]
  },
  {
   "cell_type": "code",
   "execution_count": null,
   "metadata": {
    "executionInfo": {
     "elapsed": 305,
     "status": "ok",
     "timestamp": 1707960349411,
     "user": {
      "displayName": "",
      "userId": ""
     },
     "user_tz": 0
    },
    "id": "iNLgP1KjWa0I"
   },
   "outputs": [],
   "source": [
    "shape_file_url = \"https://www2.census.gov/geo/tiger/TIGER2021/COUNTY/tl_2021_us_county.zip\""
   ]
  },
  {
   "cell_type": "code",
   "execution_count": null,
   "metadata": {
    "colab": {
     "base_uri": "https://localhost:8080/"
    },
    "executionInfo": {
     "elapsed": 1917,
     "status": "ok",
     "timestamp": 1707960376550,
     "user": {
      "displayName": "",
      "userId": ""
     },
     "user_tz": 0
    },
    "id": "78RDL3rtXra_",
    "outputId": "47edb272-b044-4344-afa9-df7234e03dd9"
   },
   "outputs": [],
   "source": [
    "# Download the shape file\n",
    "r = requests.get(shape_file_url, allow_redirects=True)\n",
    "open('tl_2021_us_county.zip', 'wb').write(r.content)"
   ]
  },
  {
   "cell_type": "code",
   "execution_count": null,
   "metadata": {
    "executionInfo": {
     "elapsed": 1407,
     "status": "ok",
     "timestamp": 1707960485165,
     "user": {
      "displayName": "",
      "userId": ""
     },
     "user_tz": 0
    },
    "id": "7u4LtPSTXy4c"
   },
   "outputs": [],
   "source": [
    "with zipfile.ZipFile('tl_2021_us_county.zip', 'r') as zip_ref:\n",
    "    zip_ref.extractall('tl_2021_us_county')"
   ]
  },
  {
   "cell_type": "code",
   "execution_count": null,
   "metadata": {
    "executionInfo": {
     "elapsed": 283,
     "status": "ok",
     "timestamp": 1707960534274,
     "user": {
      "displayName": "",
      "userId": ""
     },
     "user_tz": 0
    },
    "id": "J1-XstgNYRsi"
   },
   "outputs": [],
   "source": [
    "shapefile = fiona.open('tl_2021_us_county/tl_2021_us_county.shp')"
   ]
  },
  {
   "cell_type": "code",
   "execution_count": null,
   "metadata": {
    "colab": {
     "base_uri": "https://localhost:8080/"
    },
    "executionInfo": {
     "elapsed": 344,
     "status": "ok",
     "timestamp": 1707960543040,
     "user": {
      "displayName": "",
      "userId": ""
     },
     "user_tz": 0
    },
    "id": "ZoPWHfp2YZ4H",
    "outputId": "fb46f5e6-ceab-45f4-a7d8-08bf078d9bee"
   },
   "outputs": [],
   "source": [
    "shapefile.schema"
   ]
  },
  {
   "cell_type": "code",
   "execution_count": null,
   "metadata": {
    "executionInfo": {
     "elapsed": 14995,
     "status": "ok",
     "timestamp": 1707960578502,
     "user": {
      "displayName": "",
      "userId": ""
     },
     "user_tz": 0
    },
    "id": "yRMH6BzCYenj"
   },
   "outputs": [],
   "source": [
    "# create a spatial index for the county polygons\n",
    "index = rtree.index.Index()\n",
    "for i, county in enumerate(shapefile):\n",
    "    geometry = shapely.geometry.shape(county['geometry'])\n",
    "    index.insert(i, geometry.bounds)"
   ]
  },
  {
   "cell_type": "code",
   "execution_count": null,
   "metadata": {
    "executionInfo": {
     "elapsed": 299,
     "status": "ok",
     "timestamp": 1707960790228,
     "user": {
      "displayName": "",
      "userId": ""
     },
     "user_tz": 0
    },
    "id": "wIN33XcUZGwy"
   },
   "outputs": [],
   "source": [
    "# Get the EINs and their coordinates\n",
    "ein_lat_lon_query = \"\"\"\n",
    "SELECT *\n",
    "FROM reference.ein_lat_lon_2022\n",
    "\"\"\""
   ]
  },
  {
   "cell_type": "code",
   "execution_count": null,
   "metadata": {
    "executionInfo": {
     "elapsed": 3754,
     "status": "ok",
     "timestamp": 1707960871203,
     "user": {
      "displayName": "",
      "userId": ""
     },
     "user_tz": 0
    },
    "id": "cBnN2OnQZXG_"
   },
   "outputs": [],
   "source": [
    "org_coordinates = client.query(ein_lat_lon_query).to_dataframe()"
   ]
  },
  {
   "cell_type": "code",
   "execution_count": null,
   "metadata": {
    "colab": {
     "base_uri": "https://localhost:8080/",
     "height": 206
    },
    "executionInfo": {
     "elapsed": 314,
     "status": "ok",
     "timestamp": 1707960883071,
     "user": {
      "displayName": "",
      "userId": ""
     },
     "user_tz": 0
    },
    "id": "3zwc5XQtZrRo",
    "outputId": "44a39038-c122-4e9f-8a06-52d0570b4a90"
   },
   "outputs": [],
   "source": [
    "org_coordinates.head()"
   ]
  },
  {
   "cell_type": "code",
   "execution_count": null,
   "metadata": {
    "colab": {
     "base_uri": "https://localhost:8080/"
    },
    "executionInfo": {
     "elapsed": 1070305,
     "status": "ok",
     "timestamp": 1707961963822,
     "user": {
      "displayName": "",
      "userId": ""
     },
     "user_tz": 0
    },
    "id": "lr5FFGL4YkYt",
    "outputId": "a7a062a2-0f54-4341-960a-5fce2181632e"
   },
   "outputs": [],
   "source": [
    "# find the county that each org is in\n",
    "ein_county = []\n",
    "i = 0\n",
    "for org in org_coordinates.itertuples():\n",
    "    ein = org.ein\n",
    "    point = shapely.geometry.Point(org.longitude, org.latitude)\n",
    "    # if the point is null then skip it\n",
    "    if point.is_empty:\n",
    "        continue\n",
    "    # use the spatial index to find the county that contains the point\n",
    "    for j in index.intersection(point.bounds):\n",
    "        county = shapefile[j]\n",
    "        geometry = shapely.geometry.shape(county['geometry'])\n",
    "        if geometry.contains(point):\n",
    "            geo_id = county[\"properties\"][\"GEOID\"]\n",
    "            data = {\"ein\": ein, \"geo_id\": geo_id}\n",
    "            ein_county.append(data)\n",
    "            break\n",
    "    if i % 10000 == 0:\n",
    "        print(i, time.strftime(\"%Y-%m-%d %H:%M:%S\", time.localtime()))\n",
    "    i += 1"
   ]
  },
  {
   "cell_type": "code",
   "execution_count": null,
   "metadata": {
    "executionInfo": {
     "elapsed": 3,
     "status": "ok",
     "timestamp": 1707961964740,
     "user": {
      "displayName": "",
      "userId": ""
     },
     "user_tz": 0
    },
    "id": "nFbv1feLZ6xe"
   },
   "outputs": [],
   "source": [
    "ein_county_df = pd.DataFrame(ein_county)"
   ]
  },
  {
   "cell_type": "code",
   "execution_count": null,
   "metadata": {
    "colab": {
     "base_uri": "https://localhost:8080/",
     "height": 423
    },
    "executionInfo": {
     "elapsed": 3,
     "status": "ok",
     "timestamp": 1707961964740,
     "user": {
      "displayName": "",
      "userId": ""
     },
     "user_tz": 0
    },
    "id": "123Q4eoXaAcQ",
    "outputId": "95549428-80bd-49e9-a9f3-4335db38b29b"
   },
   "outputs": [],
   "source": [
    "ein_county_df.head()"
   ]
  },
  {
   "cell_type": "code",
   "execution_count": null,
   "metadata": {
    "executionInfo": {
     "elapsed": 337,
     "status": "ok",
     "timestamp": 1707962341452,
     "user": {
      "displayName": "",
      "userId": ""
     },
     "user_tz": 0
    },
    "id": "c6OJBU1zaj6W"
   },
   "outputs": [],
   "source": [
    "ein_county_df.to_csv(\"ein_county_2022.csv\", index=False)"
   ]
  },
  {
   "cell_type": "code",
   "execution_count": null,
   "metadata": {
    "executionInfo": {
     "elapsed": 335,
     "status": "ok",
     "timestamp": 1707962372403,
     "user": {
      "displayName": "",
      "userId": ""
     },
     "user_tz": 0
    },
    "id": "C8hW1o3LaUf2"
   },
   "outputs": [],
   "source": [
    "storage_client = storage.Client(project=project_id)"
   ]
  },
  {
   "cell_type": "code",
   "execution_count": null,
   "metadata": {
    "executionInfo": {
     "elapsed": 348,
     "status": "ok",
     "timestamp": 1707962375509,
     "user": {
      "displayName": "",
      "userId": ""
     },
     "user_tz": 0
    },
    "id": "FlZ0mWBCaWaE"
   },
   "outputs": [],
   "source": [
    "bucket = storage_client.get_bucket(bucket_name)"
   ]
  },
  {
   "cell_type": "code",
   "execution_count": null,
   "metadata": {
    "executionInfo": {
     "elapsed": 302,
     "status": "ok",
     "timestamp": 1707962384560,
     "user": {
      "displayName": "",
      "userId": ""
     },
     "user_tz": 0
    },
    "id": "8N_5xljAaZjY"
   },
   "outputs": [],
   "source": [
    "blob = bucket.blob(f\"{prefix}/reference/ein_county_2022.csv\")"
   ]
  },
  {
   "cell_type": "code",
   "execution_count": null,
   "metadata": {
    "executionInfo": {
     "elapsed": 328,
     "status": "ok",
     "timestamp": 1707962387605,
     "user": {
      "displayName": "",
      "userId": ""
     },
     "user_tz": 0
    },
    "id": "9147Mie0aufw"
   },
   "outputs": [],
   "source": [
    "blob.upload_from_filename(\"ein_county_2022.csv\")"
   ]
  },
  {
   "cell_type": "code",
   "execution_count": null,
   "metadata": {
    "executionInfo": {
     "elapsed": 320,
     "status": "ok",
     "timestamp": 1707962394543,
     "user": {
      "displayName": "",
      "userId": ""
     },
     "user_tz": 0
    },
    "id": "F7cWUNzFayuB"
   },
   "outputs": [],
   "source": [
    "schema = [\n",
    "    bigquery.SchemaField(\"ein\", \"STRING\"),\n",
    "    bigquery.SchemaField(\"county\", \"STRING\"),\n",
    "]"
   ]
  },
  {
   "cell_type": "code",
   "execution_count": null,
   "metadata": {
    "executionInfo": {
     "elapsed": 318,
     "status": "ok",
     "timestamp": 1707962396727,
     "user": {
      "displayName": "",
      "userId": ""
     },
     "user_tz": 0
    },
    "id": "xGQR0_rOa1Vn"
   },
   "outputs": [],
   "source": [
    "job_config = bigquery.LoadJobConfig(\n",
    "    schema=schema,\n",
    "    skip_leading_rows=1,\n",
    "    source_format=bigquery.SourceFormat.CSV,\n",
    "    write_disposition=bigquery.WriteDisposition.WRITE_TRUNCATE,\n",
    ")"
   ]
  },
  {
   "cell_type": "code",
   "execution_count": null,
   "metadata": {
    "executionInfo": {
     "elapsed": 296,
     "status": "ok",
     "timestamp": 1707962400816,
     "user": {
      "displayName": "",
      "userId": ""
     },
     "user_tz": 0
    },
    "id": "8zq8faWFbCHO"
   },
   "outputs": [],
   "source": [
    "table_ref = client.dataset(\"reference\").table(\"ein_county_2022\")"
   ]
  },
  {
   "cell_type": "code",
   "execution_count": null,
   "metadata": {
    "executionInfo": {
     "elapsed": 609,
     "status": "ok",
     "timestamp": 1707962404062,
     "user": {
      "displayName": "",
      "userId": ""
     },
     "user_tz": 0
    },
    "id": "jEJlFR30bGHo"
   },
   "outputs": [],
   "source": [
    "job = client.load_table_from_uri(\n",
    "    f\"gs://{bucket_name}/{prefix}/reference/ein_county_2022.csv\",\n",
    "    table_ref,\n",
    "    job_config=job_config,\n",
    ")\n",
    "\n"
   ]
  },
  {
   "cell_type": "code",
   "execution_count": null,
   "metadata": {
    "colab": {
     "base_uri": "https://localhost:8080/"
    },
    "executionInfo": {
     "elapsed": 305,
     "status": "ok",
     "timestamp": 1707962406393,
     "user": {
      "displayName": "",
      "userId": ""
     },
     "user_tz": 0
    },
    "id": "myXUKtkHbL_Z",
    "outputId": "00e8bb4d-3d22-4f4a-c59f-c2d9ae9eb877"
   },
   "outputs": [],
   "source": [
    "job.result()"
   ]
  }
 ],
 "metadata": {
  "colab": {
   "cell_execution_strategy": "setup",
   "name": "BigQuery table",
   "provenance": []
  },
  "kernelspec": {
   "display_name": "Python 3 (ipykernel)",
   "language": "python",
   "name": "python3"
  },
  "language_info": {
   "codemirror_mode": {
    "name": "ipython",
    "version": 3
   },
   "file_extension": ".py",
   "mimetype": "text/x-python",
   "name": "python",
   "nbconvert_exporter": "python",
   "pygments_lexer": "ipython3",
   "version": "3.9.18"
  }
 },
 "nbformat": 4,
 "nbformat_minor": 1
}
