{
 "cells": [
  {
   "cell_type": "code",
   "execution_count": null,
   "metadata": {
    "id": "Mdgns33zwo00"
   },
   "outputs": [],
   "source": [
    "import csv\n",
    "import glob\n",
    "import shutil\n",
    "import tarfile\n",
    "import time\n",
    "from google.cloud import storage, bigquery\n",
    "from xml.etree import ElementTree as ET"
   ]
  },
  {
   "cell_type": "code",
   "execution_count": null,
   "metadata": {
    "id": "eRFSK9saCJhz"
   },
   "outputs": [],
   "source": [
    "# Columns that we want to extract from the XML files\n",
    "columns = [\n",
    "    \"ein\",\n",
    "    \"return_timestamp\",\n",
    "    \"tax_period_end_date\",\n",
    "    \"business_name\",\n",
    "    \"address\",\n",
    "    \"city\",\n",
    "    \"state\",\n",
    "    \"zip\",\n",
    "    \"phone\",\n",
    "    \"business_officer_name\",\n",
    "    \"business_officer_title\",\n",
    "    \"website\",\n",
    "    \"formation_year\",\n",
    "    \"mission\",\n",
    "    \"voting_members_count\",\n",
    "    \"total_employee_count\",\n",
    "    \"total_volunteer_count\",\n",
    "    \"revenue_from_grants\",\n",
    "    \"revenue_from_program_services\",\n",
    "    \"revenue_from_investment\",\n",
    "    \"revenue_from_other\",\n",
    "    \"total_revenue\",\n",
    "    \"expenses_for_grants\",\n",
    "    \"expenses_for_members\",\n",
    "    \"expenses_for_employees\",\n",
    "    \"expenses_for_professional_fundraising\",\n",
    "    \"expenses_for_other\",\n",
    "    \"total_expenses\",\n",
    "    \"principal_office_salary\",\n",
    "    \"states_where_form_990_filed\",\n",
    "    \"states_where_form_990_filed_count\",\n",
    "    \"description\",\n",
    "    \"prog_srvc_accom_acty_2_grp_desc\",\n",
    "    \"prog_srvc_accom_acty_3_grp_desc\",\n",
    "    \"prog_srvc_accom_acty_other_grp_desc\",\n",
    "    \"mission_desc\",\n",
    "    \"other_expenses_group_desc\",\n",
    "]"
   ]
  },
  {
   "cell_type": "code",
   "execution_count": null,
   "metadata": {
    "id": "sv178x_TTLCF"
   },
   "outputs": [],
   "source": [
    "# Data extraction function\n",
    "def process_xml(file):\n",
    "    relevant_data = {}\n",
    "    root = ET.parse(file).getroot()\n",
    "\n",
    "    # Remove namespace from all tags in the root\n",
    "    for elem in root.iter():\n",
    "        if \"}\" in elem.tag:\n",
    "            elem.tag = elem.tag.split(\"}\", 1)[1]\n",
    "\n",
    "    # ReturnHeader and sub elements\n",
    "    return_header = root.find(\"ReturnHeader\")\n",
    "    filer = return_header.find(\"Filer\")\n",
    "    business_name_element = filer.find(\"BusinessName\")\n",
    "    us_address = filer.find(\"USAddress\")\n",
    "    business_officer = return_header.find(\"BusinessOfficerGrp\")\n",
    "\n",
    "    # ReturnHeader columns\n",
    "    ein = filer.find(\"EIN\").text\n",
    "    return_timestamp = return_header.find(\"ReturnTs\").text\n",
    "    tax_period_end_date = return_header.find(\"TaxPeriodEndDt\").text\n",
    "    business_name = business_name_element.find(\"BusinessNameLine1Txt\").text\n",
    "    if us_address is not None:\n",
    "        address = us_address.find(\"AddressLine1Txt\").text\n",
    "        city = us_address.find(\"CityNm\").text\n",
    "        state = us_address.find(\"StateAbbreviationCd\").text\n",
    "        zip_code = us_address.find(\"ZIPCd\").text\n",
    "    else:\n",
    "        address = None\n",
    "        city = None\n",
    "        state = None\n",
    "        zip_code = None\n",
    "    phone = filer.find(\"PhoneNum\").text if filer.find(\"PhoneNum\") is not None else None\n",
    "    business_officer_name = business_officer.find(\"PersonNm\").text\n",
    "    business_officer_title = business_officer.find(\"PersonTitleTxt\").text\n",
    "\n",
    "    # ReturnHeader column assignment\n",
    "    relevant_data[\"ein\"] = ein\n",
    "    relevant_data[\"return_timestamp\"] = return_timestamp\n",
    "    relevant_data[\"tax_period_end_date\"] = tax_period_end_date\n",
    "    relevant_data[\"business_name\"] = business_name\n",
    "    relevant_data[\"address\"] = address\n",
    "    relevant_data[\"city\"] = city\n",
    "    relevant_data[\"state\"] = state\n",
    "    relevant_data[\"zip\"] = zip_code\n",
    "    relevant_data[\"phone\"] = phone\n",
    "    relevant_data[\"business_officer_name\"] = business_officer_name\n",
    "    relevant_data[\"business_officer_title\"] = business_officer_title\n",
    "\n",
    "    # ReturnData sub elements\n",
    "    return_data = root.find(\"ReturnData\")\n",
    "    irs990 = return_data.find(\"IRS990\")\n",
    "    # Not all files have irs 990 data, assign the rest of the columns to None and return\n",
    "    if irs990 is None:\n",
    "        relevant_data[\"website\"] = None\n",
    "        relevant_data[\"formation_year\"] = None\n",
    "        relevant_data[\"mission\"] = None\n",
    "        relevant_data[\"voting_members_count\"] = None\n",
    "        relevant_data[\"total_employee_count\"] = None\n",
    "        relevant_data[\"total_volunteer_count\"] = None\n",
    "        relevant_data[\"revenue_from_grants\"] = None\n",
    "        relevant_data[\"revenue_from_program_services\"] = None\n",
    "        relevant_data[\"revenue_from_investment\"] = None\n",
    "        relevant_data[\"revenue_from_other\"] = None\n",
    "        relevant_data[\"total_revenue\"] = None\n",
    "        relevant_data[\"expenses_for_grants\"] = None\n",
    "        relevant_data[\"expenses_for_members\"] = None\n",
    "        relevant_data[\"expenses_for_employees\"] = None\n",
    "        relevant_data[\"expenses_for_professional_fundraising\"] = None\n",
    "        relevant_data[\"expenses_for_other\"] = None\n",
    "        relevant_data[\"total_expenses\"] = None\n",
    "        relevant_data[\"principal_office_salary\"] = None\n",
    "        relevant_data[\"states_where_form_990_filed\"] = None\n",
    "        relevant_data[\"states_where_form_990_filed_count\"] = None\n",
    "        relevant_data[\"description\"] = None\n",
    "        relevant_data[\"prog_srvc_accom_acty_2_grp_desc\"] = None\n",
    "        relevant_data[\"prog_srvc_accom_acty_3_grp_desc\"] = None\n",
    "        relevant_data[\"prog_srvc_accom_acty_other_grp_desc\"] = None\n",
    "        relevant_data[\"mission_desc\"] = None\n",
    "        relevant_data[\"other_expenses_group_desc\"] = None\n",
    "        # output = json.dumps(relevant_data)\n",
    "        return relevant_data\n",
    "\n",
    "    form990_part_vii_section_a_grp = irs990.find(\"Form990PartVIISectionAGrp\")\n",
    "    prog_srvc_accom_acty_2_grp = irs990.find(\"ProgSrvcAccomActy2Grp\")\n",
    "    prog_srvc_accom_acty_3_grp = irs990.find(\"ProgSrvcAccomActy3Grp\")\n",
    "    prog_srvc_accom_acty_other_grp = irs990.find(\"ProgSrvcAccomActyOtherGrp\")\n",
    "    other_expenses_grp = irs990.find(\"OtherExpensesGrp\")\n",
    "\n",
    "    # ReturnData columns\n",
    "    website = irs990.find(\"WebsiteAddressTxt\").text if irs990.find(\"WebsiteAddressTxt\") is not None else None\n",
    "    formation_year = irs990.find(\"FormationYr\").text if irs990.find(\"FormationYr\") is not None else None\n",
    "    mission = irs990.find(\"ActivityOrMissionDesc\").text\n",
    "    voting_members_count = irs990.find(\"VotingMembersGoverningBodyCnt\").text\n",
    "    total_employee_count = irs990.find(\"TotalEmployeeCnt\").text\n",
    "    total_volunteer_count = (\n",
    "        irs990.find(\"TotalVolunteersCnt\").text if irs990.find(\"TotalVolunteersCnt\") is not None else None\n",
    "    )\n",
    "    revenue_from_grants = irs990.find(\"CYContributionsGrantsAmt\").text\n",
    "    revenue_from_program_services = irs990.find(\"CYProgramServiceRevenueAmt\").text\n",
    "    revenue_from_investment = irs990.find(\"CYInvestmentIncomeAmt\").text\n",
    "    revenue_from_other = irs990.find(\"CYOtherRevenueAmt\").text\n",
    "    total_revenue = irs990.find(\"CYTotalRevenueAmt\").text\n",
    "    expenses_for_grants = irs990.find(\"CYGrantsAndSimilarPaidAmt\").text\n",
    "    expenses_for_members = irs990.find(\"CYBenefitsPaidToMembersAmt\").text\n",
    "    expenses_for_employees = irs990.find(\"CYSalariesCompEmpBnftPaidAmt\").text\n",
    "    expenses_for_professional_fundraising = irs990.find(\"CYTotalProfFndrsngExpnsAmt\").text\n",
    "    expenses_for_other = irs990.find(\"CYOtherExpensesAmt\").text\n",
    "    total_expenses = irs990.find(\"CYTotalExpensesAmt\").text\n",
    "    principal_office_salary = (\n",
    "        form990_part_vii_section_a_grp.find(\"ReportableCompFromOrgAmt\").text\n",
    "        if form990_part_vii_section_a_grp.find(\"ReportableCompFromOrgAmt\") is not None\n",
    "        else None\n",
    "    )\n",
    "    states_where_form_990_filed_list = irs990.findall(\"StatesWhereCopyOfReturnIsFldCd\")\n",
    "    states_where_form_990_filed_count = len(states_where_form_990_filed_list)\n",
    "    states_where_form_990_filed = \",\".join(sorted([state.text for state in states_where_form_990_filed_list]))\n",
    "    description = irs990.find(\"Desc\").text\n",
    "    if prog_srvc_accom_acty_2_grp is not None:\n",
    "        prog_srvc_accom_acty_2_grp_desc_element = prog_srvc_accom_acty_2_grp.find(\"Desc\")\n",
    "        if prog_srvc_accom_acty_2_grp_desc_element is not None:\n",
    "            prog_srvc_accom_acty_2_grp_desc = prog_srvc_accom_acty_2_grp_desc_element.text\n",
    "        else:\n",
    "            prog_srvc_accom_acty_2_grp_desc = None\n",
    "    else:\n",
    "        prog_srvc_accom_acty_2_grp_desc = None\n",
    "\n",
    "    if prog_srvc_accom_acty_3_grp is not None:\n",
    "        prog_srvc_accom_acty_3_grp_element = prog_srvc_accom_acty_3_grp.find(\"Desc\")\n",
    "        if prog_srvc_accom_acty_3_grp_element is not None:\n",
    "            prog_srvc_accom_acty_3_grp_desc = prog_srvc_accom_acty_3_grp_element.text\n",
    "        else:\n",
    "            prog_srvc_accom_acty_3_grp_desc = None\n",
    "    else:\n",
    "        prog_srvc_accom_acty_3_grp_desc = None\n",
    "\n",
    "    if prog_srvc_accom_acty_other_grp is not None:\n",
    "        prog_srvc_accom_acty_other_grp_element = prog_srvc_accom_acty_other_grp.find(\"Desc\")\n",
    "        if prog_srvc_accom_acty_other_grp_element is not None:\n",
    "            prog_srvc_accom_acty_other_grp_desc = prog_srvc_accom_acty_other_grp_element.text\n",
    "        else:\n",
    "            prog_srvc_accom_acty_other_grp_desc = None\n",
    "    else:\n",
    "        prog_srvc_accom_acty_other_grp_desc = None\n",
    "\n",
    "    mission_desc = irs990.find(\"MissionDesc\").text if irs990.find(\"MissionDesc\") is not None else None\n",
    "\n",
    "    if other_expenses_grp is not None:\n",
    "        other_expenses_grp_element = other_expenses_grp.find(\"Desc\")\n",
    "        if other_expenses_grp_element is not None:\n",
    "            other_expenses_group_desc = other_expenses_grp_element.text\n",
    "        else:\n",
    "            other_expenses_group_desc = None\n",
    "    else:\n",
    "        other_expenses_group_desc = None\n",
    "\n",
    "    # ReturnData column assignment\n",
    "    relevant_data[\"website\"] = website\n",
    "    relevant_data[\"formation_year\"] = formation_year\n",
    "    relevant_data[\"mission\"] = mission\n",
    "    relevant_data[\"voting_members_count\"] = voting_members_count\n",
    "    relevant_data[\"total_employee_count\"] = total_employee_count\n",
    "    relevant_data[\"total_volunteer_count\"] = total_volunteer_count\n",
    "    relevant_data[\"revenue_from_grants\"] = revenue_from_grants\n",
    "    relevant_data[\"revenue_from_program_services\"] = revenue_from_program_services\n",
    "    relevant_data[\"revenue_from_investment\"] = revenue_from_investment\n",
    "    relevant_data[\"revenue_from_other\"] = revenue_from_other\n",
    "    relevant_data[\"total_revenue\"] = total_revenue\n",
    "    relevant_data[\"expenses_for_grants\"] = expenses_for_grants\n",
    "    relevant_data[\"expenses_for_members\"] = expenses_for_members\n",
    "    relevant_data[\"expenses_for_employees\"] = expenses_for_employees\n",
    "    relevant_data[\"expenses_for_professional_fundraising\"] = expenses_for_professional_fundraising\n",
    "    relevant_data[\"expenses_for_other\"] = expenses_for_other\n",
    "    relevant_data[\"total_expenses\"] = total_expenses\n",
    "    relevant_data[\"principal_office_salary\"] = principal_office_salary\n",
    "    relevant_data[\"states_where_form_990_filed\"] = states_where_form_990_filed\n",
    "    relevant_data[\"states_where_form_990_filed_count\"] = states_where_form_990_filed_count\n",
    "    relevant_data[\"description\"] = description\n",
    "    relevant_data[\"prog_srvc_accom_acty_2_grp_desc\"] = prog_srvc_accom_acty_2_grp_desc\n",
    "    relevant_data[\"prog_srvc_accom_acty_3_grp_desc\"] = prog_srvc_accom_acty_3_grp_desc\n",
    "    relevant_data[\"prog_srvc_accom_acty_other_grp_desc\"] = prog_srvc_accom_acty_other_grp_desc\n",
    "    relevant_data[\"mission_desc\"] = mission_desc\n",
    "    relevant_data[\"other_expenses_group_desc\"] = other_expenses_group_desc\n",
    "\n",
    "    # output = json.dumps(relevant_data)\n",
    "    return relevant_data"
   ]
  },
  {
   "cell_type": "code",
   "execution_count": null,
   "metadata": {
    "id": "9A9jd0pnRzLi"
   },
   "outputs": [],
   "source": [
    "# Input parameters including the year we want to process\n",
    "project_id = \"INSERT PROJECT ID\"\n",
    "bucket_name = \"INSERT BUCKET NAME\"\n",
    "prefix = \"irs-form-990\"\n",
    "sample = [\"sample\"]\n",
    "years = [\"2017\", \"2018\", \"2019\", \"2020\", \"2021\", \"2022\"]\n",
    "csv_file_name = \"irs-990.csv\""
   ]
  },
  {
   "cell_type": "code",
   "execution_count": null,
   "metadata": {
    "id": "LHZQEolCwpx6"
   },
   "outputs": [],
   "source": [
    "# Initialize a storage client to download the compressed XML file for that year\n",
    "storage_client = storage.Client(project=project_id)\n",
    "bucket = storage_client.get_bucket(bucket_name)\n"
   ]
  },
  {
   "cell_type": "markdown",
   "metadata": {
    "id": "4umTjTyF0p5M"
   },
   "source": [
    "Processing one year of data takes ~3 hours"
   ]
  },
  {
   "cell_type": "code",
   "execution_count": null,
   "metadata": {
    "colab": {
     "base_uri": "https://localhost:8080/"
    },
    "id": "JkDndL8ITSRZ",
    "outputId": "2ca51474-34d2-49a4-93ae-ba0c8ed49e69"
   },
   "outputs": [],
   "source": [
    "# Process each file, saving the output in a CSV file.\n",
    "with open(csv_file_name, \"w\", newline=\"\", encoding=\"utf-8\") as csvfile:\n",
    "    writer = csv.DictWriter(csvfile, fieldnames=columns)\n",
    "    writer.writeheader()\n",
    "    for year in years:\n",
    "        compressed_file = bucket.blob(f\"{prefix}/compressed/xml-{year}.tar.gz\")\n",
    "        # Download the compressed file\n",
    "        compressed_file.download_to_filename(f\"xml-{year}.tar.gz\")\n",
    "        # Extract the XML files\n",
    "        with tarfile.open(f\"xml-{year}.tar.gz\", \"r:gz\") as tar:\n",
    "            tar.extractall(year)\n",
    "        file_list = glob.glob(f\"{year}/*.xml\")\n",
    "        i = 0\n",
    "        for file in file_list:\n",
    "            row = process_xml(file)\n",
    "            writer.writerow(row)\n",
    "            if i % 100000 == 0:\n",
    "                print(year, i, time.strftime(\"%H:%M:%S\", time.localtime()))\n",
    "            i += 1\n",
    "        shutil.rmtree(year)\n"
   ]
  },
  {
   "cell_type": "code",
   "execution_count": null,
   "metadata": {
    "id": "F4g9JdKO9m2-"
   },
   "outputs": [],
   "source": [
    "# Upload the output file to GCS\n",
    "storage_client = storage.Client(project=project_id)\n",
    "bucket = storage_client.get_bucket(bucket_name)\n",
    "blob = bucket.blob(f\"{prefix}/csv/{csv_file_name}\")\n",
    "blob.upload_from_filename(csv_file_name)"
   ]
  },
  {
   "cell_type": "code",
   "execution_count": null,
   "metadata": {
    "id": "x7pAXTgNTCdZ"
   },
   "outputs": [],
   "source": [
    "# BigQuery inputs and target table schema\n",
    "bigquery_dataset = \"original\"\n",
    "bigquery_table = f\"irs_990\"\n",
    "table_schema_bq = [\n",
    "    bigquery.SchemaField(\"ein\", \"STRING\"),\n",
    "    bigquery.SchemaField(\"return_timestamp\", \"STRING\"),\n",
    "    bigquery.SchemaField(\"tax_period_end_date\", \"DATE\"),\n",
    "    bigquery.SchemaField(\"business_name\", \"STRING\"),\n",
    "    bigquery.SchemaField(\"address\", \"STRING\"),\n",
    "    bigquery.SchemaField(\"city\", \"STRING\"),\n",
    "    bigquery.SchemaField(\"state\", \"STRING\"),\n",
    "    bigquery.SchemaField(\"zip\", \"STRING\"),\n",
    "    bigquery.SchemaField(\"phone\", \"STRING\"),\n",
    "    bigquery.SchemaField(\"business_officer_name\", \"STRING\"),\n",
    "    bigquery.SchemaField(\"business_officer_title\", \"STRING\"),\n",
    "    bigquery.SchemaField(\"website\", \"STRING\"),\n",
    "    bigquery.SchemaField(\"formation_year\", \"INTEGER\"),\n",
    "    bigquery.SchemaField(\"mission\", \"STRING\"),\n",
    "    bigquery.SchemaField(\"voting_members_count\", \"INTEGER\"),\n",
    "    bigquery.SchemaField(\"total_employee_count\", \"INTEGER\"),\n",
    "    bigquery.SchemaField(\"total_volunteer_count\", \"INTEGER\"),\n",
    "    bigquery.SchemaField(\"revenue_from_grants\", \"INTEGER\"),\n",
    "    bigquery.SchemaField(\"revenue_from_program_services\", \"INTEGER\"),\n",
    "    bigquery.SchemaField(\"revenue_from_investment\", \"INTEGER\"),\n",
    "    bigquery.SchemaField(\"revenue_from_other\", \"INTEGER\"),\n",
    "    bigquery.SchemaField(\"total_revenue\", \"INTEGER\"),\n",
    "    bigquery.SchemaField(\"expenses_for_grants\", \"INTEGER\"),\n",
    "    bigquery.SchemaField(\"expenses_for_members\", \"INTEGER\"),\n",
    "    bigquery.SchemaField(\"expenses_for_employees\", \"INTEGER\"),\n",
    "    bigquery.SchemaField(\"expenses_for_professional_fundraising\", \"INTEGER\"),\n",
    "    bigquery.SchemaField(\"expenses_for_other\", \"INTEGER\"),\n",
    "    bigquery.SchemaField(\"total_expenses\", \"INTEGER\"),\n",
    "    bigquery.SchemaField(\"principal_office_salary\", \"INTEGER\"),\n",
    "    bigquery.SchemaField(\"states_where_form_990_filed\", \"STRING\"),\n",
    "    bigquery.SchemaField(\"states_where_form_990_filed_count\", \"INTEGER\"),\n",
    "    bigquery.SchemaField(\"description\", \"STRING\"),\n",
    "    bigquery.SchemaField(\"prog_srvc_accom_acty_2_grp_desc\", \"STRING\"),\n",
    "    bigquery.SchemaField(\"prog_srvc_accom_acty_3_grp_desc\", \"STRING\"),\n",
    "    bigquery.SchemaField(\"prog_srvc_accom_acty_other_grp_desc\", \"STRING\"),\n",
    "    bigquery.SchemaField(\"mission_desc\", \"STRING\"),\n",
    "    bigquery.SchemaField(\"other_expenses_group_desc\", \"STRING\"),\n",
    "    ]"
   ]
  },
  {
   "cell_type": "code",
   "execution_count": null,
   "metadata": {
    "id": "kIkipY7DnL_Z"
   },
   "outputs": [],
   "source": [
    "# Create the target table\n",
    "bigquery_client = bigquery.Client(project=project_id)\n",
    "table_ref = bigquery_client.dataset(bigquery_dataset).table(bigquery_table)\n",
    "table_def = bigquery.Table(table_ref, schema=table_schema_bq)\n",
    "table = bigquery_client.create_table(table_def, exists_ok=True)"
   ]
  },
  {
   "cell_type": "code",
   "execution_count": null,
   "metadata": {
    "colab": {
     "base_uri": "https://localhost:8080/"
    },
    "executionInfo": {
     "elapsed": 320,
     "status": "ok",
     "timestamp": 1706654758897,
     "user": {
      "displayName": "",
      "userId": ""
     },
     "user_tz": 0
    },
    "id": "bqyZkHLmnOP2",
    "outputId": "eced78be-e8ac-41d7-c0d6-a1b1b45a3246"
   },
   "outputs": [],
   "source": [
    "# Make sure the table is empty\n",
    "query = f\"TRUNCATE TABLE `{project_id}.{bigquery_dataset}.{bigquery_table}`\"\n",
    "bigquery_client.query(query)"
   ]
  },
  {
   "cell_type": "code",
   "execution_count": null,
   "metadata": {
    "id": "0pmZN0Q23CoK"
   },
   "outputs": [],
   "source": [
    "# Load the csv file to BigQuery\n",
    "job_config = bigquery.LoadJobConfig(\n",
    "    schema=table_schema_bq,\n",
    "    skip_leading_rows=1,\n",
    "    source_format=bigquery.SourceFormat.CSV,\n",
    "    write_disposition=bigquery.WriteDisposition.WRITE_TRUNCATE,\n",
    ")"
   ]
  },
  {
   "cell_type": "code",
   "execution_count": null,
   "metadata": {
    "id": "dQ92x1-k3Enk"
   },
   "outputs": [],
   "source": [
    "uri = f\"gs://{bucket_name}/{prefix}/csv/{csv_file_name}\""
   ]
  },
  {
   "cell_type": "code",
   "execution_count": null,
   "metadata": {
    "colab": {
     "base_uri": "https://localhost:8080/"
    },
    "executionInfo": {
     "elapsed": 2196,
     "status": "ok",
     "timestamp": 1706654766595,
     "user": {
      "displayName": "",
      "userId": ""
     },
     "user_tz": 0
    },
    "id": "zpBYPSE-3HkP",
    "outputId": "21a17d59-70d9-4ef0-d243-abb2cd2d2603"
   },
   "outputs": [],
   "source": [
    "load_job = bigquery_client.load_table_from_uri(uri, table_ref, job_config=job_config)\n",
    "load_job.result()"
   ]
  }
 ],
 "metadata": {
  "colab": {
   "cell_execution_strategy": "setup",
   "name": "BigQuery table",
   "provenance": []
  },
  "kernelspec": {
   "display_name": "Python 3 (ipykernel)",
   "language": "python",
   "name": "python3"
  },
  "language_info": {
   "codemirror_mode": {
    "name": "ipython",
    "version": 3
   },
   "file_extension": ".py",
   "mimetype": "text/x-python",
   "name": "python",
   "nbconvert_exporter": "python",
   "pygments_lexer": "ipython3",
   "version": "3.9.18"
  }
 },
 "nbformat": 4,
 "nbformat_minor": 1
}
