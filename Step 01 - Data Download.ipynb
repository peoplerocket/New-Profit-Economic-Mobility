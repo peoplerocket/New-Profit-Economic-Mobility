{
 "cells": [
  {
   "cell_type": "code",
   "execution_count": null,
   "metadata": {
    "id": "Oo9V3ICdW24x"
   },
   "outputs": [],
   "source": [
    "import json\n",
    "import requests\n",
    "from google.cloud import storage"
   ]
  },
  {
   "cell_type": "code",
   "execution_count": null,
   "metadata": {
    "id": "QydxHoXgXXfp"
   },
   "outputs": [],
   "source": [
    "# The ID of our GCP project\n",
    "project_id = \"CREATE PROJECT ID\"\n",
    "# The GCS bucket that contains notebook files\n",
    "notebook_bucket_name = \"CREATE bucket for notebook files\"\n",
    "# The GCS bucket that contains the original IRS files\n",
    "irs_xml_bucket_name = \"CREATE bucket for notebook files\""
   ]
  },
  {
   "cell_type": "code",
   "execution_count": null,
   "metadata": {
    "id": "m-8vSPkibGZn"
   },
   "outputs": [],
   "source": [
    "# The list of XMLs is saved in a JSON file in our GCS\n",
    "xml_url_list_file = \"CREATE JSON file\""
   ]
  },
  {
   "cell_type": "code",
   "execution_count": null,
   "metadata": {
    "id": "6F6C7nhVX7ID"
   },
   "outputs": [],
   "source": [
    "storage_client = storage.Client(project=project_id)"
   ]
  },
  {
   "cell_type": "code",
   "execution_count": null,
   "metadata": {
    "id": "xguA-nN8X_Pv"
   },
   "outputs": [],
   "source": [
    "notebook_bucket = storage_client.bucket(notebook_bucket_name)"
   ]
  },
  {
   "cell_type": "code",
   "execution_count": null,
   "metadata": {
    "id": "hJksMOdCYCbM"
   },
   "outputs": [],
   "source": [
    "xml_url_list_blob = notebook_bucket.blob(xml_url_list_file)"
   ]
  },
  {
   "cell_type": "code",
   "execution_count": null,
   "metadata": {
    "id": "DWA5YvFUYGCZ"
   },
   "outputs": [],
   "source": [
    "xml_url_list_blob_content = xml_url_list_blob.download_as_text()"
   ]
  },
  {
   "cell_type": "code",
   "execution_count": null,
   "metadata": {
    "id": "_oauQMV7Y17s"
   },
   "outputs": [],
   "source": [
    "xml_urls = json.loads(xml_url_list_blob_content)"
   ]
  },
  {
   "cell_type": "code",
   "execution_count": null,
   "metadata": {
    "colab": {
     "base_uri": "https://localhost:8080/"
    },
    "executionInfo": {
     "elapsed": 302,
     "status": "ok",
     "timestamp": 1702849669369,
     "user": {
      "displayName": "",
      "userId": ""
     },
     "user_tz": 0
    },
    "id": "Xl8UkHAGaVxd",
    "outputId": "c44eeb23-bb37-47c4-a6be-da45c4ed1955",
    "scrolled": true
   },
   "outputs": [],
   "source": [
    "xml_urls.keys()"
   ]
  },
  {
   "cell_type": "code",
   "execution_count": null,
   "metadata": {
    "id": "e1FGbO0KrtnS"
   },
   "outputs": [],
   "source": [
    "upload_folder_prefix = \"irs-form-990/original\""
   ]
  },
  {
   "cell_type": "code",
   "execution_count": null,
   "metadata": {
    "id": "odvIspEPtd6s"
   },
   "outputs": [],
   "source": [
    "upload_bucket = storage_client.bucket(irs_xml_bucket_name)"
   ]
  },
  {
   "cell_type": "code",
   "execution_count": null,
   "metadata": {
    "id": "lYX1hC3xlaf4"
   },
   "outputs": [],
   "source": [
    "# Download each file to local file system using requests library\n",
    "# Then upload the files to GCS\n",
    "# The whole process takes 30-40 minutes\n",
    "# There must be at least 30 GB disk space available\n",
    "for year in xml_urls.keys():\n",
    "    urls = xml_urls[year]\n",
    "    for url in urls:\n",
    "        print(f\"Downloading {url}\")\n",
    "        response = requests.get(url)\n",
    "        file_name = url.split(\"/\")[-1]\n",
    "        with open(file_name, \"wb\") as f:\n",
    "            f.write(response.content)\n",
    "        upload_path = f\"{upload_folder_prefix}/{year}/{file_name}\"\n",
    "        blob = upload_bucket.blob(upload_path)\n",
    "        print(f\"Uploading to {upload_path}\")\n",
    "        blob.upload_from_filename(file_name)\n"
   ]
  }
 ],
 "metadata": {
  "colab": {
   "cell_execution_strategy": "setup",
   "name": "BigQuery table",
   "provenance": []
  },
  "kernelspec": {
   "display_name": "Python 3 (ipykernel)",
   "language": "python",
   "name": "python3"
  },
  "language_info": {
   "codemirror_mode": {
    "name": "ipython",
    "version": 3
   },
   "file_extension": ".py",
   "mimetype": "text/x-python",
   "name": "python",
   "nbconvert_exporter": "python",
   "pygments_lexer": "ipython3",
   "version": "3.9.18"
  }
 },
 "nbformat": 4,
 "nbformat_minor": 1
}
