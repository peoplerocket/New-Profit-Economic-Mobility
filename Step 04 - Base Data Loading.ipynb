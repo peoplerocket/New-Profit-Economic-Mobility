{
 "cells": [
  {
   "cell_type": "markdown",
   "metadata": {
    "id": "CGM-ZG3S6jDx"
   },
   "source": [
    "The initial population of candidate organizations are based on the source file provided: eo_extract_990_2022.csv\n",
    "\n",
    "This notebook loads this file to BigQuery as a wide table. A single SQL command that accomplishes the same thing is also available in the script: `load_data`"
   ]
  },
  {
   "cell_type": "code",
   "execution_count": null,
   "metadata": {
    "id": "Zrsj6AkA7H5b"
   },
   "outputs": [],
   "source": [
    "from google.cloud import bigquery"
   ]
  },
  {
   "cell_type": "code",
   "execution_count": null,
   "metadata": {
    "id": "pbjRoT0U7SdV"
   },
   "outputs": [],
   "source": [
    "project_id = \"INSERT PROJECT ID\"\n",
    "bucket_name = \"INSERT BUCKET NAME\"\n",
    "bq_dataset = \"original\"\n",
    "bq_table_name = \"eo_extract_990_2022\""
   ]
  },
  {
   "cell_type": "code",
   "execution_count": null,
   "metadata": {
    "id": "JMu65hsz7YHZ"
   },
   "outputs": [],
   "source": [
    "bq_table_schema = [\n",
    "    bigquery.SchemaField(\"efile\", \"STRING\"),\n",
    "    bigquery.SchemaField(\"ein\", \"STRING\"),\n",
    "    bigquery.SchemaField(\"tax_pd\", \"STRING\"),\n",
    "    bigquery.SchemaField(\"subseccd\", \"STRING\"),\n",
    "    bigquery.SchemaField(\"s501c3or4947a1cd\", \"STRING\"),\n",
    "    bigquery.SchemaField(\"schdbind\", \"STRING\"),\n",
    "    bigquery.SchemaField(\"politicalactvtscd\", \"STRING\"),\n",
    "    bigquery.SchemaField(\"lbbyingactvtscd\", \"STRING\"),\n",
    "    bigquery.SchemaField(\"subjto6033cd\", \"STRING\"),\n",
    "    bigquery.SchemaField(\"dnradvisedfundscd\", \"STRING\"),\n",
    "    bigquery.SchemaField(\"prptyintrcvdcd\", \"STRING\"),\n",
    "    bigquery.SchemaField(\"maintwrkofartcd\", \"STRING\"),\n",
    "    bigquery.SchemaField(\"crcounselingqstncd\", \"STRING\"),\n",
    "    bigquery.SchemaField(\"hldassetsintermpermcd\", \"STRING\"),\n",
    "    bigquery.SchemaField(\"rptlndbldgeqptcd\", \"STRING\"),\n",
    "    bigquery.SchemaField(\"rptinvstothsecd\", \"STRING\"),\n",
    "    bigquery.SchemaField(\"rptinvstprgrelcd\", \"STRING\"),\n",
    "    bigquery.SchemaField(\"rptothasstcd\", \"STRING\"),\n",
    "    bigquery.SchemaField(\"rptothliabcd\", \"STRING\"),\n",
    "    bigquery.SchemaField(\"sepcnsldtfinstmtcd\", \"STRING\"),\n",
    "    bigquery.SchemaField(\"sepindaudfinstmtcd\", \"STRING\"),\n",
    "    bigquery.SchemaField(\"inclinfinstmtcd\", \"STRING\"),\n",
    "    bigquery.SchemaField(\"operateschools170cd\", \"STRING\"),\n",
    "    bigquery.SchemaField(\"frgnofficecd\", \"STRING\"),\n",
    "    bigquery.SchemaField(\"frgnrevexpnscd\", \"STRING\"),\n",
    "    bigquery.SchemaField(\"frgngrntscd\", \"STRING\"),\n",
    "    bigquery.SchemaField(\"frgnaggragrntscd\", \"STRING\"),\n",
    "    bigquery.SchemaField(\"rptprofndrsngfeescd\", \"STRING\"),\n",
    "    bigquery.SchemaField(\"rptincfnndrsngcd\", \"STRING\"),\n",
    "    bigquery.SchemaField(\"rptincgamingcd\", \"STRING\"),\n",
    "    bigquery.SchemaField(\"operatehosptlcd\", \"STRING\"),\n",
    "    bigquery.SchemaField(\"hospaudfinstmtcd\", \"STRING\"),\n",
    "    bigquery.SchemaField(\"rptgrntstogovtcd\", \"STRING\"),\n",
    "    bigquery.SchemaField(\"rptgrntstoindvcd\", \"STRING\"),\n",
    "    bigquery.SchemaField(\"rptyestocompnstncd\", \"STRING\"),\n",
    "    bigquery.SchemaField(\"txexmptbndcd\", \"STRING\"),\n",
    "    bigquery.SchemaField(\"invstproceedscd\", \"STRING\"),\n",
    "    bigquery.SchemaField(\"maintescrwaccntcd\", \"STRING\"),\n",
    "    bigquery.SchemaField(\"actonbehalfcd\", \"STRING\"),\n",
    "    bigquery.SchemaField(\"engageexcessbnftcd\", \"STRING\"),\n",
    "    bigquery.SchemaField(\"awarexcessbnftcd\", \"STRING\"),\n",
    "    bigquery.SchemaField(\"loantofficercd\", \"STRING\"),\n",
    "    bigquery.SchemaField(\"grantoofficercd\", \"STRING\"),\n",
    "    bigquery.SchemaField(\"dirbusnreltdcd\", \"STRING\"),\n",
    "    bigquery.SchemaField(\"fmlybusnreltdcd\", \"STRING\"),\n",
    "    bigquery.SchemaField(\"servasofficercd\", \"STRING\"),\n",
    "    bigquery.SchemaField(\"recvnoncashcd\", \"STRING\"),\n",
    "    bigquery.SchemaField(\"recvartcd\", \"STRING\"),\n",
    "    bigquery.SchemaField(\"ceaseoperationscd\", \"STRING\"),\n",
    "    bigquery.SchemaField(\"sellorexchcd\", \"STRING\"),\n",
    "    bigquery.SchemaField(\"ownsepentcd\", \"STRING\"),\n",
    "    bigquery.SchemaField(\"reltdorgcd\", \"STRING\"),\n",
    "    bigquery.SchemaField(\"intincntrlcd\", \"STRING\"),\n",
    "    bigquery.SchemaField(\"orgtrnsfrcd\", \"STRING\"),\n",
    "    bigquery.SchemaField(\"conduct5percentcd\", \"STRING\"),\n",
    "    bigquery.SchemaField(\"compltschocd\", \"STRING\"),\n",
    "    bigquery.SchemaField(\"f1096cnt\", \"NUMERIC\"),\n",
    "    bigquery.SchemaField(\"fw2gcnt\", \"NUMERIC\"),\n",
    "    bigquery.SchemaField(\"wthldngrulescd\", \"STRING\"),\n",
    "    bigquery.SchemaField(\"noemplyeesw3cnt\", \"NUMERIC\"),\n",
    "    bigquery.SchemaField(\"filerqrdrtnscd\", \"STRING\"),\n",
    "    bigquery.SchemaField(\"unrelbusinccd\", \"STRING\"),\n",
    "    bigquery.SchemaField(\"filedf990tcd\", \"STRING\"),\n",
    "    bigquery.SchemaField(\"frgnacctcd\", \"STRING\"),\n",
    "    bigquery.SchemaField(\"prohibtdtxshltrcd\", \"STRING\"),\n",
    "    bigquery.SchemaField(\"prtynotifyorgcd\", \"STRING\"),\n",
    "    bigquery.SchemaField(\"filedf8886tcd\", \"STRING\"),\n",
    "    bigquery.SchemaField(\"solicitcntrbcd\", \"STRING\"),\n",
    "    bigquery.SchemaField(\"exprstmntcd\", \"STRING\"),\n",
    "    bigquery.SchemaField(\"providegoodscd\", \"STRING\"),\n",
    "    bigquery.SchemaField(\"notfydnrvalcd\", \"STRING\"),\n",
    "    bigquery.SchemaField(\"filedf8282cd\", \"STRING\"),\n",
    "    bigquery.SchemaField(\"f8282cnt\", \"NUMERIC\"),\n",
    "    bigquery.SchemaField(\"fndsrcvdcd\", \"STRING\"),\n",
    "    bigquery.SchemaField(\"premiumspaidcd\", \"STRING\"),\n",
    "    bigquery.SchemaField(\"filedf8899cd\", \"STRING\"),\n",
    "    bigquery.SchemaField(\"filedf1098ccd\", \"STRING\"),\n",
    "    bigquery.SchemaField(\"excbushldngscd\", \"STRING\"),\n",
    "    bigquery.SchemaField(\"s4966distribcd\", \"STRING\"),\n",
    "    bigquery.SchemaField(\"distribtodonorcd\", \"STRING\"),\n",
    "    bigquery.SchemaField(\"initiationfees\", \"NUMERIC\"),\n",
    "    bigquery.SchemaField(\"grsrcptspublicuse\", \"NUMERIC\"),\n",
    "    bigquery.SchemaField(\"grsincmembers\", \"NUMERIC\"),\n",
    "    bigquery.SchemaField(\"grsincother\", \"NUMERIC\"),\n",
    "    bigquery.SchemaField(\"filedlieuf1041cd\", \"STRING\"),\n",
    "    bigquery.SchemaField(\"txexmptint\", \"NUMERIC\"),\n",
    "    bigquery.SchemaField(\"qualhlthplncd\", \"STRING\"),\n",
    "    bigquery.SchemaField(\"qualhlthreqmntn\", \"NUMERIC\"),\n",
    "    bigquery.SchemaField(\"qualhlthonhnd\", \"NUMERIC\"),\n",
    "    bigquery.SchemaField(\"rcvdpdtngcd\", \"STRING\"),\n",
    "    bigquery.SchemaField(\"filedf720cd\", \"STRING\"),\n",
    "    bigquery.SchemaField(\"totreprtabled\", \"NUMERIC\"),\n",
    "    bigquery.SchemaField(\"totcomprelatede\", \"NUMERIC\"),\n",
    "    bigquery.SchemaField(\"totestcompf\", \"NUMERIC\"),\n",
    "    bigquery.SchemaField(\"noindiv100kcnt\", \"NUMERIC\"),\n",
    "    bigquery.SchemaField(\"nocontractor100kcnt\", \"NUMERIC\"),\n",
    "    bigquery.SchemaField(\"totcntrbgfts\", \"NUMERIC\"),\n",
    "    bigquery.SchemaField(\"prgmservcode2acd\", \"NUMERIC\"),\n",
    "    bigquery.SchemaField(\"totrev2acola\", \"NUMERIC\"),\n",
    "    bigquery.SchemaField(\"prgmservcode2bcd\", \"NUMERIC\"),\n",
    "    bigquery.SchemaField(\"totrev2bcola\", \"NUMERIC\"),\n",
    "    bigquery.SchemaField(\"prgmservcode2ccd\", \"NUMERIC\"),\n",
    "    bigquery.SchemaField(\"totrev2ccola\", \"NUMERIC\"),\n",
    "    bigquery.SchemaField(\"prgmservcode2dcd\", \"NUMERIC\"),\n",
    "    bigquery.SchemaField(\"totrev2dcola\", \"NUMERIC\"),\n",
    "    bigquery.SchemaField(\"prgmservcode2ecd\", \"NUMERIC\"),\n",
    "    bigquery.SchemaField(\"totrev2ecola\", \"NUMERIC\"),\n",
    "    bigquery.SchemaField(\"totrev2fcola\", \"NUMERIC\"),\n",
    "    bigquery.SchemaField(\"totprgmrevnue\", \"NUMERIC\"),\n",
    "    bigquery.SchemaField(\"invstmntinc\", \"NUMERIC\"),\n",
    "    bigquery.SchemaField(\"txexmptbndsproceeds\", \"NUMERIC\"),\n",
    "    bigquery.SchemaField(\"royaltsinc\", \"NUMERIC\"),\n",
    "    bigquery.SchemaField(\"grsrntsreal\", \"NUMERIC\"),\n",
    "    bigquery.SchemaField(\"grsrntsprsnl\", \"NUMERIC\"),\n",
    "    bigquery.SchemaField(\"rntlexpnsreal\", \"NUMERIC\"),\n",
    "    bigquery.SchemaField(\"rntlexpnsprsnl\", \"NUMERIC\"),\n",
    "    bigquery.SchemaField(\"rntlincreal\", \"NUMERIC\"),\n",
    "    bigquery.SchemaField(\"rntlincprsnl\", \"NUMERIC\"),\n",
    "    bigquery.SchemaField(\"netrntlinc\", \"NUMERIC\"),\n",
    "    bigquery.SchemaField(\"grsalesecur\", \"NUMERIC\"),\n",
    "    bigquery.SchemaField(\"grsalesothr\", \"NUMERIC\"),\n",
    "    bigquery.SchemaField(\"cstbasisecur\", \"NUMERIC\"),\n",
    "    bigquery.SchemaField(\"cstbasisothr\", \"NUMERIC\"),\n",
    "    bigquery.SchemaField(\"gnlsecur\", \"NUMERIC\"),\n",
    "    bigquery.SchemaField(\"gnlsothr\", \"NUMERIC\"),\n",
    "    bigquery.SchemaField(\"netgnls\", \"NUMERIC\"),\n",
    "    bigquery.SchemaField(\"grsincfndrsng\", \"NUMERIC\"),\n",
    "    bigquery.SchemaField(\"lessdirfndrsng\", \"NUMERIC\"),\n",
    "    bigquery.SchemaField(\"netincfndrsng\", \"NUMERIC\"),\n",
    "    bigquery.SchemaField(\"grsincgaming\", \"NUMERIC\"),\n",
    "    bigquery.SchemaField(\"lessdirgaming\", \"NUMERIC\"),\n",
    "    bigquery.SchemaField(\"netincgaming\", \"NUMERIC\"),\n",
    "    bigquery.SchemaField(\"grsalesinvent\", \"NUMERIC\"),\n",
    "    bigquery.SchemaField(\"lesscstofgoods\", \"NUMERIC\"),\n",
    "    bigquery.SchemaField(\"netincsales\", \"NUMERIC\"),\n",
    "    bigquery.SchemaField(\"miscrev11acd\", \"NUMERIC\"),\n",
    "    bigquery.SchemaField(\"miscrevtota\", \"NUMERIC\"),\n",
    "    bigquery.SchemaField(\"miscrev11bcd\", \"NUMERIC\"),\n",
    "    bigquery.SchemaField(\"miscrevtot11b\", \"NUMERIC\"),\n",
    "    bigquery.SchemaField(\"miscrev11ccd\", \"NUMERIC\"),\n",
    "    bigquery.SchemaField(\"miscrevtot11c\", \"NUMERIC\"),\n",
    "    bigquery.SchemaField(\"miscrevtot11d\", \"NUMERIC\"),\n",
    "    bigquery.SchemaField(\"miscrevtot11e\", \"NUMERIC\"),\n",
    "    bigquery.SchemaField(\"totrevenue\", \"NUMERIC\"),\n",
    "    bigquery.SchemaField(\"grntstogovt\", \"NUMERIC\"),\n",
    "    bigquery.SchemaField(\"grnsttoindiv\", \"NUMERIC\"),\n",
    "    bigquery.SchemaField(\"grntstofrgngovt\", \"NUMERIC\"),\n",
    "    bigquery.SchemaField(\"benifitsmembrs\", \"NUMERIC\"),\n",
    "    bigquery.SchemaField(\"compnsatncurrofcr\", \"NUMERIC\"),\n",
    "    bigquery.SchemaField(\"compnsatnandothr\", \"NUMERIC\"),\n",
    "    bigquery.SchemaField(\"othrsalwages\", \"NUMERIC\"),\n",
    "    bigquery.SchemaField(\"pensionplancontrb\", \"NUMERIC\"),\n",
    "    bigquery.SchemaField(\"othremplyeebenef\", \"NUMERIC\"),\n",
    "    bigquery.SchemaField(\"payrolltx\", \"NUMERIC\"),\n",
    "    bigquery.SchemaField(\"feesforsrvcmgmt\", \"NUMERIC\"),\n",
    "    bigquery.SchemaField(\"legalfees\", \"NUMERIC\"),\n",
    "    bigquery.SchemaField(\"accntingfees\", \"NUMERIC\"),\n",
    "    bigquery.SchemaField(\"feesforsrvclobby\", \"NUMERIC\"),\n",
    "    bigquery.SchemaField(\"profndraising\", \"NUMERIC\"),\n",
    "    bigquery.SchemaField(\"feesforsrvcinvstmgmt\", \"NUMERIC\"),\n",
    "    bigquery.SchemaField(\"feesforsrvcothr\", \"NUMERIC\"),\n",
    "    bigquery.SchemaField(\"advrtpromo\", \"NUMERIC\"),\n",
    "    bigquery.SchemaField(\"officexpns\", \"NUMERIC\"),\n",
    "    bigquery.SchemaField(\"infotech\", \"NUMERIC\"),\n",
    "    bigquery.SchemaField(\"royaltsexpns\", \"NUMERIC\"),\n",
    "    bigquery.SchemaField(\"occupancy\", \"NUMERIC\"),\n",
    "    bigquery.SchemaField(\"travel\", \"NUMERIC\"),\n",
    "    bigquery.SchemaField(\"travelofpublicoffcl\", \"NUMERIC\"),\n",
    "    bigquery.SchemaField(\"converconventmtng\", \"NUMERIC\"),\n",
    "    bigquery.SchemaField(\"interestamt\", \"NUMERIC\"),\n",
    "    bigquery.SchemaField(\"pymtoaffiliates\", \"NUMERIC\"),\n",
    "    bigquery.SchemaField(\"deprcatndepletn\", \"NUMERIC\"),\n",
    "    bigquery.SchemaField(\"insurance\", \"NUMERIC\"),\n",
    "    bigquery.SchemaField(\"othrexpnsa\", \"NUMERIC\"),\n",
    "    bigquery.SchemaField(\"othrexpnsb\", \"NUMERIC\"),\n",
    "    bigquery.SchemaField(\"othrexpnsc\", \"NUMERIC\"),\n",
    "    bigquery.SchemaField(\"othrexpnsd\", \"NUMERIC\"),\n",
    "    bigquery.SchemaField(\"othrexpnse\", \"NUMERIC\"),\n",
    "    bigquery.SchemaField(\"othrexpnsf\", \"NUMERIC\"),\n",
    "    bigquery.SchemaField(\"totfuncexpns\", \"NUMERIC\"),\n",
    "    bigquery.SchemaField(\"nonintcashend\", \"NUMERIC\"),\n",
    "    bigquery.SchemaField(\"svngstempinvend\", \"NUMERIC\"),\n",
    "    bigquery.SchemaField(\"pldgegrntrcvblend\", \"NUMERIC\"),\n",
    "    bigquery.SchemaField(\"accntsrcvblend\", \"NUMERIC\"),\n",
    "    bigquery.SchemaField(\"currfrmrcvblend\", \"NUMERIC\"),\n",
    "    bigquery.SchemaField(\"rcvbldisqualend\", \"NUMERIC\"),\n",
    "    bigquery.SchemaField(\"notesloansrcvblend\", \"NUMERIC\"),\n",
    "    bigquery.SchemaField(\"invntriesalesend\", \"NUMERIC\"),\n",
    "    bigquery.SchemaField(\"prepaidexpnsend\", \"NUMERIC\"),\n",
    "    bigquery.SchemaField(\"lndbldgsequipend\", \"NUMERIC\"),\n",
    "    bigquery.SchemaField(\"invstmntsend\", \"NUMERIC\"),\n",
    "    bigquery.SchemaField(\"invstmntsothrend\", \"NUMERIC\"),\n",
    "    bigquery.SchemaField(\"invstmntsprgmend\", \"NUMERIC\"),\n",
    "    bigquery.SchemaField(\"intangibleassetsend\", \"NUMERIC\"),\n",
    "    bigquery.SchemaField(\"othrassetsend\", \"NUMERIC\"),\n",
    "    bigquery.SchemaField(\"totassetsend\", \"NUMERIC\"),\n",
    "    bigquery.SchemaField(\"accntspayableend\", \"NUMERIC\"),\n",
    "    bigquery.SchemaField(\"grntspayableend\", \"NUMERIC\"),\n",
    "    bigquery.SchemaField(\"deferedrevnuend\", \"NUMERIC\"),\n",
    "    bigquery.SchemaField(\"txexmptbndsend\", \"NUMERIC\"),\n",
    "    bigquery.SchemaField(\"escrwaccntliabend\", \"NUMERIC\"),\n",
    "    bigquery.SchemaField(\"paybletoffcrsend\", \"NUMERIC\"),\n",
    "    bigquery.SchemaField(\"secrdmrtgsend\", \"NUMERIC\"),\n",
    "    bigquery.SchemaField(\"unsecurednotesend\", \"NUMERIC\"),\n",
    "    bigquery.SchemaField(\"othrliabend\", \"NUMERIC\"),\n",
    "    bigquery.SchemaField(\"totliabend\", \"NUMERIC\"),\n",
    "    bigquery.SchemaField(\"unrstrctnetasstsend\", \"NUMERIC\"),\n",
    "    bigquery.SchemaField(\"temprstrctnetasstsend\", \"NUMERIC\"),\n",
    "    bigquery.SchemaField(\"permrstrctnetasstsend\", \"NUMERIC\"),\n",
    "    bigquery.SchemaField(\"capitalstktrstend\", \"NUMERIC\"),\n",
    "    bigquery.SchemaField(\"paidinsurplusend\", \"NUMERIC\"),\n",
    "    bigquery.SchemaField(\"retainedearnend\", \"NUMERIC\"),\n",
    "    bigquery.SchemaField(\"totnetassetend\", \"NUMERIC\"),\n",
    "    bigquery.SchemaField(\"totnetliabastend\", \"NUMERIC\"),\n",
    "    bigquery.SchemaField(\"nonpfrea\", \"NUMERIC\"),\n",
    "    bigquery.SchemaField(\"totnooforgscnt\", \"NUMERIC\"),\n",
    "    bigquery.SchemaField(\"totsupport\", \"NUMERIC\"),\n",
    "    bigquery.SchemaField(\"gftgrntsrcvd170\", \"NUMERIC\"),\n",
    "    bigquery.SchemaField(\"txrevnuelevied170\", \"NUMERIC\"),\n",
    "    bigquery.SchemaField(\"srvcsval170\", \"NUMERIC\"),\n",
    "    bigquery.SchemaField(\"pubsuppsubtot170\", \"NUMERIC\"),\n",
    "    bigquery.SchemaField(\"exceeds2pct170\", \"NUMERIC\"),\n",
    "    bigquery.SchemaField(\"pubsupplesspct170\", \"NUMERIC\"),\n",
    "    bigquery.SchemaField(\"samepubsuppsubtot170\", \"NUMERIC\"),\n",
    "    bigquery.SchemaField(\"grsinc170\", \"NUMERIC\"),\n",
    "    bigquery.SchemaField(\"netincunreltd170\", \"NUMERIC\"),\n",
    "    bigquery.SchemaField(\"othrinc170\", \"NUMERIC\"),\n",
    "    bigquery.SchemaField(\"totsupp170\", \"NUMERIC\"),\n",
    "    bigquery.SchemaField(\"grsrcptsrelated170\", \"NUMERIC\"),\n",
    "    bigquery.SchemaField(\"totgftgrntrcvd509\", \"NUMERIC\"),\n",
    "    bigquery.SchemaField(\"grsrcptsadmissn509\", \"NUMERIC\"),\n",
    "    bigquery.SchemaField(\"grsrcptsactivities509\", \"NUMERIC\"),\n",
    "    bigquery.SchemaField(\"txrevnuelevied509\", \"NUMERIC\"),\n",
    "    bigquery.SchemaField(\"srvcsval509\", \"NUMERIC\"),\n",
    "    bigquery.SchemaField(\"pubsuppsubtot509\", \"NUMERIC\"),\n",
    "    bigquery.SchemaField(\"rcvdfrmdisqualsub509\", \"NUMERIC\"),\n",
    "    bigquery.SchemaField(\"exceeds1pct509\", \"NUMERIC\"),\n",
    "    bigquery.SchemaField(\"subtotpub509\", \"NUMERIC\"),\n",
    "    bigquery.SchemaField(\"pubsupplesub509\", \"NUMERIC\"),\n",
    "    bigquery.SchemaField(\"samepubsuppsubtot509\", \"NUMERIC\"),\n",
    "    bigquery.SchemaField(\"grsinc509\", \"NUMERIC\"),\n",
    "    bigquery.SchemaField(\"unreltxincls511tx509\", \"NUMERIC\"),\n",
    "    bigquery.SchemaField(\"subtotsuppinc509\", \"NUMERIC\"),\n",
    "    bigquery.SchemaField(\"netincunrelatd509\", \"NUMERIC\"),\n",
    "    bigquery.SchemaField(\"othrinc509\", \"NUMERIC\"),\n",
    "    bigquery.SchemaField(\"totsupp509\", \"NUMERIC\")\n",
    "]"
   ]
  },
  {
   "cell_type": "code",
   "execution_count": null,
   "metadata": {
    "id": "qXE61xD3fKsm"
   },
   "outputs": [],
   "source": [
    "eo_extract_990_2022_uri = \"INSERT CSV URI FROM IRS eo_extract_990_2022\""
   ]
  },
  {
   "cell_type": "code",
   "execution_count": null,
   "metadata": {
    "id": "Rs8-RBfXfMkl"
   },
   "outputs": [],
   "source": [
    "# Create the target table\n",
    "bigquery_client = bigquery.Client(project=project_id)\n",
    "table_ref = bigquery_client.dataset(bq_dataset).table(bq_table_name)\n",
    "table_def = bigquery.Table(table_ref, schema=bq_table_schema)\n",
    "table = bigquery_client.create_table(table_def, exists_ok=True)"
   ]
  },
  {
   "cell_type": "code",
   "execution_count": null,
   "metadata": {
    "colab": {
     "base_uri": "https://localhost:8080/"
    },
    "executionInfo": {
     "elapsed": 3,
     "status": "ok",
     "timestamp": 1706922181955,
     "user": {
      "displayName": "",
      "userId": ""
     },
     "user_tz": 0
    },
    "id": "DPPCVoagfPiR",
    "outputId": "dd4ecc44-057a-48d1-f64b-634837de0b95"
   },
   "outputs": [
    {
     "data": {
      "text/plain": [
       "QueryJob<project=decent-carving-397313, location=us-central1, id=8ec8ce58-a955-4181-b5ea-d1c3c30ff6ab>"
      ]
     },
     "execution_count": 6,
     "metadata": {},
     "output_type": "execute_result"
    }
   ],
   "source": [
    "# Make sure the table is empty\n",
    "query = f\"TRUNCATE TABLE `{project_id}.{bq_dataset}.{bq_table_name}`\"\n",
    "bigquery_client.query(query)"
   ]
  },
  {
   "cell_type": "code",
   "execution_count": null,
   "metadata": {
    "id": "DZs96D2_fXXy"
   },
   "outputs": [],
   "source": [
    "# Load the csv file to BigQuery\n",
    "job_config = bigquery.LoadJobConfig(\n",
    "    schema=bq_table_schema,\n",
    "    skip_leading_rows=1,\n",
    "    source_format=bigquery.SourceFormat.CSV,\n",
    "    write_disposition=bigquery.WriteDisposition.WRITE_TRUNCATE,\n",
    ")"
   ]
  },
  {
   "cell_type": "code",
   "execution_count": null,
   "metadata": {
    "colab": {
     "base_uri": "https://localhost:8080/"
    },
    "executionInfo": {
     "elapsed": 30342,
     "status": "ok",
     "timestamp": 1706922259884,
     "user": {
      "displayName": "",
      "userId": ""
     },
     "user_tz": 0
    },
    "id": "arn2i5XafjAv",
    "outputId": "0f1146e2-2cf9-49ef-c472-0f122e9e428d"
   },
   "outputs": [
    {
     "data": {
      "text/plain": [
       "LoadJob<project=decent-carving-397313, location=us-central1, id=da0649d0-6276-4522-88a7-982fccaab723>"
      ]
     },
     "execution_count": 8,
     "metadata": {},
     "output_type": "execute_result"
    }
   ],
   "source": [
    "load_job = bigquery_client.load_table_from_uri(eo_extract_990_2022_uri, table_ref, job_config=job_config)\n",
    "load_job.result()"
   ]
  }
 ],
 "metadata": {
  "colab": {
   "cell_execution_strategy": "setup",
   "name": "BigQuery table",
   "provenance": []
  },
  "kernelspec": {
   "display_name": "Python 3 (ipykernel)",
   "language": "python",
   "name": "python3"
  },
  "language_info": {
   "codemirror_mode": {
    "name": "ipython",
    "version": 3
   },
   "file_extension": ".py",
   "mimetype": "text/x-python",
   "name": "python",
   "nbconvert_exporter": "python",
   "pygments_lexer": "ipython3",
   "version": "3.9.18"
  }
 },
 "nbformat": 4,
 "nbformat_minor": 1
}
