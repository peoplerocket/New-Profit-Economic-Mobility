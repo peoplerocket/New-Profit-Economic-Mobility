{
 "cells": [
  {
   "cell_type": "code",
   "execution_count": null,
   "metadata": {
    "id": "EUIujimb9rpD"
   },
   "outputs": [],
   "source": [
    "import os\n",
    "from google.cloud import storage"
   ]
  },
  {
   "cell_type": "code",
   "execution_count": null,
   "metadata": {
    "id": "ZJl7atqoFkYF"
   },
   "outputs": [],
   "source": [
    "project_id = \"INSERT PROJECT ID\"\n",
    "# The GCS bucket that contains the original IRS files\n",
    "irs_xml_bucket_name = \"INSERT XML BUCKET\""
   ]
  },
  {
   "cell_type": "code",
   "execution_count": null,
   "metadata": {
    "id": "udZdIq-JGCPH"
   },
   "outputs": [],
   "source": [
    "client = storage.Client()\n",
    "bucket = client.get_bucket(irs_xml_bucket_name)"
   ]
  },
  {
   "cell_type": "code",
   "execution_count": null,
   "metadata": {
    "colab": {
     "base_uri": "https://localhost:8080/"
    },
    "executionInfo": {
     "elapsed": 2453,
     "status": "ok",
     "timestamp": 1703727931366,
     "user": {
      "displayName": "",
      "userId": ""
     },
     "user_tz": 0
    },
    "id": "phRN_1RsFsqY",
    "outputId": "17dcf82e-f3ab-4a10-b12c-4eb2d3ce21c6"
   },
   "outputs": [],
   "source": [
    "# The decompression method of the files is \"deflate64\"\n",
    "# 7z must be installed on the system to unzip the files\n",
    "# Below is for Ubuntu/Debian\n",
    "!sudo apt install p7zip-full"
   ]
  },
  {
   "cell_type": "code",
   "execution_count": null,
   "metadata": {
    "id": "59A9806TGKSz"
   },
   "outputs": [],
   "source": [
    "years = ('2017', '2018', '2019', '2020', '2021', '2022')\n",
    "test_years = ('2021',)"
   ]
  },
  {
   "cell_type": "code",
   "execution_count": null,
   "metadata": {
    "colab": {
     "base_uri": "https://localhost:8080/"
    },
    "executionInfo": {
     "elapsed": 50199,
     "status": "ok",
     "timestamp": 1703729080380,
     "user": {
      "displayName": "",
      "userId": ""
     },
     "user_tz": 0
    },
    "id": "QyUwNWKIFj2m",
    "outputId": "1543c527-42f4-4f2c-a844-642ba1714358"
   },
   "outputs": [],
   "source": [
    "for year in test_years:\n",
    "    source_blob_prefix = f'irs-form-990/original/{year}'\n",
    "    target_blob_prefix = f'irs-form-990/uncompressed/{year}'\n",
    "\n",
    "    source_blobs = bucket.list_blobs(prefix=source_blob_prefix)\n",
    "    source_blob_list = list(source_blobs)\n",
    "    os.mkdir(year)\n",
    "    for blob in source_blob_list:\n",
    "        print(f\"Downloading {blob.name}\")\n",
    "        local_blob = blob.download_as_bytes()\n",
    "        local_filename = blob.name.split('/')[-1]\n",
    "        local_filepath = year + '/' + local_filename\n",
    "        with open(local_filepath, 'wb') as f:\n",
    "            f.write(local_blob)"
   ]
  },
  {
   "cell_type": "markdown",
   "metadata": {
    "id": "oZ7lO271veP0"
   },
   "source": [
    "The command below was supposed to unzip the files but it doesn't work.\n",
    "When unzipping files one by one it does work but then errors out before all files are unzipped."
   ]
  },
  {
   "cell_type": "code",
   "execution_count": null,
   "metadata": {
    "colab": {
     "base_uri": "https://localhost:8080/"
    },
    "executionInfo": {
     "elapsed": 635,
     "status": "ok",
     "timestamp": 1703729263997,
     "user": {
      "displayName": "",
      "userId": ""
     },
     "user_tz": 0
    },
    "id": "b2kc3MxpJNqT",
    "outputId": "6d53fbf6-c141-41ff-ef8e-efc82b248071"
   },
   "outputs": [],
   "source": [
    "!7z e {year}/*.zip -o{year}_uncompressed"
   ]
  }
 ],
 "metadata": {
  "colab": {
   "cell_execution_strategy": "setup",
   "name": "BigQuery table",
   "provenance": []
  },
  "kernelspec": {
   "display_name": "Python 3 (ipykernel)",
   "language": "python",
   "name": "python3"
  },
  "language_info": {
   "codemirror_mode": {
    "name": "ipython",
    "version": 3
   },
   "file_extension": ".py",
   "mimetype": "text/x-python",
   "name": "python",
   "nbconvert_exporter": "python",
   "pygments_lexer": "ipython3",
   "version": "3.9.18"
  }
 },
 "nbformat": 4,
 "nbformat_minor": 1
}
