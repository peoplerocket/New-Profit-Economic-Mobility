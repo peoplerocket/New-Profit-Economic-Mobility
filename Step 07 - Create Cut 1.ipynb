{
 "cells": [
  {
   "cell_type": "markdown",
   "metadata": {
    "id": "5-Eev7BF8Cc9"
   },
   "source": [
    "This worksheet automates the creation of Cut 1 table where the initial set of filters and enrichment is done"
   ]
  },
  {
   "cell_type": "code",
   "execution_count": 22,
   "metadata": {
    "executionInfo": {
     "elapsed": 328,
     "status": "ok",
     "timestamp": 1708028104656,
     "user": {
      "displayName": "",
      "userId": ""
     },
     "user_tz": 0
    },
    "id": "ZmbjMNJIJbzL"
   },
   "outputs": [],
   "source": [
    "from google.cloud import bigquery"
   ]
  },
  {
   "cell_type": "code",
   "execution_count": 24,
   "metadata": {
    "executionInfo": {
     "elapsed": 1,
     "status": "ok",
     "timestamp": 1708028104989,
     "user": {
      "displayName": "",
      "userId": ""
     },
     "user_tz": 0
    },
    "id": "iVk4eKUJKWL8"
   },
   "outputs": [],
   "source": [
    "client = bigquery.Client()"
   ]
  },
  {
   "cell_type": "code",
   "execution_count": 25,
   "metadata": {
    "executionInfo": {
     "elapsed": 1,
     "status": "ok",
     "timestamp": 1708028104989,
     "user": {
      "displayName": "",
      "userId": ""
     },
     "user_tz": 0
    },
    "id": "1PPw2ROs7plc"
   },
   "outputs": [],
   "source": [
    "# This is the version 20240215\n",
    "\n",
    "query = \"\"\"\n",
    "CREATE OR REPLACE TABLE analysis.INSERT_TABLE_NAME AS\n",
    "WITH cut_1 AS (\n",
    "  SELECT DISTINCT ein\n",
    "  FROM original.eo_extract_990_2022\n",
    "  WHERE subseccd = '03'\n",
    "    AND nonpfrea in (1, 7, 9)\n",
    "    AND totfuncexpns BETWEEN 250000 AND 18000000\n",
    "    AND totrevenue BETWEEN 250000 AND 24000000\n",
    "    AND ein IS NOT NULL\n",
    "),\n",
    "additional_orgs AS (\n",
    "  SELECT DISTINCT CAST(ein AS STRING) AS ein\n",
    "  FROM reference.additional_organizations_native\n",
    "),\n",
    "additional_orgs_union AS (\n",
    "  SELECT *\n",
    "  FROM cut_1\n",
    "\n",
    "  UNION DISTINCT\n",
    "\n",
    "  SELECT *\n",
    "  FROM additional_orgs\n",
    "),\n",
    "acs_data AS (\n",
    "  SELECT DISTINCT e.ein, a.*\n",
    "  FROM reference.ein_county_2022 AS e\n",
    "  LEFT JOIN reference.acs_data_final_native AS a ON RIGHT(geo_id, 5) = e.county\n",
    "),\n",
    "coords AS (\n",
    "  SELECT DISTINCT a.*, c.latitude, c.longitude\n",
    "  FROM acs_data AS a\n",
    "  LEFT JOIN reference.ein_lat_lon_2022 AS c ON a.ein = c.ein\n",
    ")\n",
    "SELECT\n",
    "  i.*, a.* EXCEPT (ein)\n",
    "FROM additional_orgs_union AS c\n",
    "LEFT JOIN original.irs_990_latest AS i ON c.ein = i.ein\n",
    "LEFT JOIN coords AS a ON a.ein = c.ein\n",
    "WHERE i.ein IS NOT NULL AND address IS NOT NULL\n",
    "AND EXTRACT(YEAR FROM tax_period_end_date) IN (2021, 2022)\n",
    "-- for each ein that made the first cut, only get their latest tax period data\n",
    "QUALIFY ROW_NUMBER() OVER (PARTITION BY ein ORDER BY tax_period_end_date DESC) = 1\n",
    "\"\"\""
   ]
  },
  {
   "cell_type": "code",
   "execution_count": 26,
   "metadata": {
    "executionInfo": {
     "elapsed": 303,
     "status": "ok",
     "timestamp": 1708028105291,
     "user": {
      "displayName": "",
      "userId": ""
     },
     "user_tz": 0
    },
    "id": "feaTBGLpKI9D"
   },
   "outputs": [],
   "source": [
    "query_job = client.query(query)"
   ]
  },
  {
   "cell_type": "code",
   "execution_count": 27,
   "metadata": {
    "colab": {
     "base_uri": "https://localhost:8080/"
    },
    "executionInfo": {
     "elapsed": 13106,
     "status": "ok",
     "timestamp": 1708028118396,
     "user": {
      "displayName": "",
      "userId": ""
     },
     "user_tz": 0
    },
    "id": "rcCpcFnmK4hm",
    "outputId": "7b8a21a0-1c36-45a4-901c-90243f778d56"
   },
   "outputs": [
    {
     "data": {
      "text/plain": [
       "<google.cloud.bigquery.table._EmptyRowIterator at 0x7afba53e7370>"
      ]
     },
     "execution_count": 27,
     "metadata": {},
     "output_type": "execute_result"
    }
   ],
   "source": [
    "query_job.result()"
   ]
  }
 ],
 "metadata": {
  "colab": {
   "cell_execution_strategy": "setup",
   "name": "BigQuery table",
   "provenance": []
  },
  "kernelspec": {
   "display_name": "Python 3 (ipykernel)",
   "language": "python",
   "name": "python3"
  },
  "language_info": {
   "codemirror_mode": {
    "name": "ipython",
    "version": 3
   },
   "file_extension": ".py",
   "mimetype": "text/x-python",
   "name": "python",
   "nbconvert_exporter": "python",
   "pygments_lexer": "ipython3",
   "version": "3.9.18"
  }
 },
 "nbformat": 4,
 "nbformat_minor": 1
}
