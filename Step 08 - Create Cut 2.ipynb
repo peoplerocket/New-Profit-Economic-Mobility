{
 "cells": [
  {
   "cell_type": "code",
   "execution_count": null,
   "metadata": {
    "executionInfo": {
     "elapsed": 18323,
     "status": "ok",
     "timestamp": 1708028472660,
     "user": {
      "displayName": "",
      "userId": ""
     },
     "user_tz": 0
    },
    "id": "hwMj-3cTQsoU"
   },
   "outputs": [],
   "source": [
    "import gspread\n",
    "import json\n",
    "import pandas as pd\n",
    "import spacy\n",
    "import time\n",
    "from google.oauth2 import service_account\n",
    "from google.cloud import storage, bigquery"
   ]
  },
  {
   "cell_type": "code",
   "execution_count": null,
   "metadata": {
    "executionInfo": {
     "elapsed": 9,
     "status": "ok",
     "timestamp": 1708028472661,
     "user": {
      "displayName": "",
      "userId": ""
     },
     "user_tz": 0
    },
    "id": "SAP5W0F5i6Kd"
   },
   "outputs": [],
   "source": [
    "location = \"INSERT LOCATION\"\n",
    "project_id = \"INSERT PROJECT ID\"\n",
    "bucket_name = \"INSERT BUCKET NAME\"\n",
    "credentials_file = \"INSERT CREDENTIALS FILE\"\n",
    "scopes = [\n",
    "    \"https://www.googleapis.com/auth/drive\",\n",
    "    \"https://www.googleapis.com/auth/bigquery\",\n",
    "]"
   ]
  },
  {
   "cell_type": "markdown",
   "metadata": {
    "id": "lxFQacX4ioFh"
   },
   "source": [
    "Define below the parameters for this run"
   ]
  },
  {
   "cell_type": "code",
   "execution_count": null,
   "metadata": {
    "executionInfo": {
     "elapsed": 9,
     "status": "ok",
     "timestamp": 1708028472661,
     "user": {
      "displayName": "",
      "userId": ""
     },
     "user_tz": 0
    },
    "id": "uCDYxtXAQ3is"
   },
   "outputs": [],
   "source": [
    "# The version parameter used to create different versions of the data in BigQuery tables\n",
    "version = \"INSERT VERSION NAME\"\n",
    "\n",
    "# Bag of Words spreadsheet details\n",
    "bow_spreadsheet_id = \"INSERT LINK TO BAG OF WORDS SPREADSHEET\"\n",
    "bow_sheet_name = \"INSERT SHEET NAME\"\n",
    "\n",
    "# Excluded bag of words details\n",
    "bow_exclude_sheet_id = \"INSERT LINK TO BAG OF WORDS REMOVE\"\n",
    "bow_exclude_sheet_name = \"INSERT SHEET NAME\""
   ]
  },
  {
   "cell_type": "code",
   "execution_count": null,
   "metadata": {
    "executionInfo": {
     "elapsed": 8,
     "status": "ok",
     "timestamp": 1708028472661,
     "user": {
      "displayName": "",
      "userId": ""
     },
     "user_tz": 0
    },
    "id": "rzTDPW7scyYy"
   },
   "outputs": [],
   "source": [
    "bigquery_client = bigquery.Client(location=location)"
   ]
  },
  {
   "cell_type": "code",
   "execution_count": null,
   "metadata": {
    "executionInfo": {
     "elapsed": 8,
     "status": "ok",
     "timestamp": 1708028472661,
     "user": {
      "displayName": "",
      "userId": ""
     },
     "user_tz": 0
    },
    "id": "WpJmW41TS0aK"
   },
   "outputs": [],
   "source": [
    "storage_client = storage.Client(project=project_id)\n",
    "bucket = storage_client.get_bucket(bucket_name)\n",
    "credentials_blob = bucket.blob(credentials_file)"
   ]
  },
  {
   "cell_type": "code",
   "execution_count": null,
   "metadata": {
    "executionInfo": {
     "elapsed": 339,
     "status": "ok",
     "timestamp": 1708028472992,
     "user": {
      "displayName": "",
      "userId": ""
     },
     "user_tz": 0
    },
    "id": "yiBgiVDdTHxx"
   },
   "outputs": [],
   "source": [
    "credentials_text = credentials_blob.download_as_text()\n",
    "credentials_dict = json.loads(credentials_text)\n",
    "credentials = service_account.Credentials.from_service_account_info(credentials_dict, scopes=scopes)"
   ]
  },
  {
   "cell_type": "code",
   "execution_count": null,
   "metadata": {
    "executionInfo": {
     "elapsed": 1,
     "status": "ok",
     "timestamp": 1708028472992,
     "user": {
      "displayName": "",
      "userId": ""
     },
     "user_tz": 0
    },
    "id": "DL0wfF7BYbQR"
   },
   "outputs": [],
   "source": [
    "gc = gspread.authorize(credentials)"
   ]
  },
  {
   "cell_type": "code",
   "execution_count": null,
   "metadata": {
    "executionInfo": {
     "elapsed": 3438,
     "status": "ok",
     "timestamp": 1708028476429,
     "user": {
      "displayName": "",
      "userId": ""
     },
     "user_tz": 0
    },
    "id": "DwATlbUcYinW"
   },
   "outputs": [],
   "source": [
    "bag_of_words_sheet = gc.open_by_key(bow_spreadsheet_id).worksheet(bow_sheet_name)\n",
    "bow_exclude_sheet = gc.open_by_key(bow_exclude_sheet_id).worksheet(bow_exclude_sheet_name)"
   ]
  },
  {
   "cell_type": "code",
   "execution_count": null,
   "metadata": {
    "executionInfo": {
     "elapsed": 357,
     "status": "ok",
     "timestamp": 1708028476784,
     "user": {
      "displayName": "",
      "userId": ""
     },
     "user_tz": 0
    },
    "id": "HfVKOiVmalQW"
   },
   "outputs": [],
   "source": [
    "bow_df = pd.DataFrame(bag_of_words_sheet.get_all_records())\n",
    "bwe_df = pd.DataFrame(bow_exclude_sheet.get_all_records())\n",
    "cct_df = pd.DataFrame(cct_sheet.get_all_records())\n",
    "cmr_df = pd.DataFrame(cmr_sheet.get_all_records())"
   ]
  },
  {
   "cell_type": "code",
   "execution_count": null,
   "metadata": {
    "executionInfo": {
     "elapsed": 1599,
     "status": "ok",
     "timestamp": 1708028478381,
     "user": {
      "displayName": "",
      "userId": ""
     },
     "user_tz": 0
    },
    "id": "I5SSPoB0lDAU"
   },
   "outputs": [],
   "source": [
    "# Load English language model\n",
    "nlp = spacy.load(\"en_core_web_sm\")"
   ]
  },
  {
   "cell_type": "code",
   "execution_count": null,
   "metadata": {
    "executionInfo": {
     "elapsed": 2,
     "status": "ok",
     "timestamp": 1708028478381,
     "user": {
      "displayName": "",
      "userId": ""
     },
     "user_tz": 0
    },
    "id": "ixe4DvcPlKk3"
   },
   "outputs": [],
   "source": [
    "def find_lemma(text):\n",
    "    lemma = \"\"\n",
    "    if text is None:\n",
    "        return lemma\n",
    "    doc = nlp(text.lower())\n",
    "    for token in doc:\n",
    "        lemma += token.lemma_ + \" \"\n",
    "    return lemma.strip()"
   ]
  },
  {
   "cell_type": "code",
   "execution_count": null,
   "metadata": {
    "executionInfo": {
     "elapsed": 2248,
     "status": "ok",
     "timestamp": 1708028480627,
     "user": {
      "displayName": "",
      "userId": ""
     },
     "user_tz": 0
    },
    "id": "LY8zjmTRlS3e"
   },
   "outputs": [],
   "source": [
    "bow_df[\"lemma\"] = bow_df[\"Word\"].apply(find_lemma)\n",
    "bwe_df[\"lemma\"] = bwe_df[\"Word\"].apply(find_lemma)\n",
    "cct_df[\"lemma\"] = cct_df[\"Word\"].apply(find_lemma)\n",
    "cmr_df[\"lemma\"] = cmr_df[\"Word\"].apply(find_lemma)\n"
   ]
  },
  {
   "cell_type": "code",
   "execution_count": null,
   "metadata": {
    "executionInfo": {
     "elapsed": 9,
     "status": "ok",
     "timestamp": 1708028480628,
     "user": {
      "displayName": "",
      "userId": ""
     },
     "user_tz": 0
    },
    "id": "5aQyKl4flfE-"
   },
   "outputs": [],
   "source": [
    "bow_exclude_list = bwe_df[\"lemma\"].tolist()"
   ]
  },
  {
   "cell_type": "code",
   "execution_count": null,
   "metadata": {
    "colab": {
     "base_uri": "https://localhost:8080/",
     "height": 53
    },
    "executionInfo": {
     "elapsed": 8,
     "status": "ok",
     "timestamp": 1708028480628,
     "user": {
      "displayName": "",
      "userId": ""
     },
     "user_tz": 0
    },
    "id": "cRGoTVl8ljde",
    "outputId": "da00d75b-65ad-4ef5-a2ac-3451f702b3a8"
   },
   "outputs": [],
   "source": [
    "# Find duplicate lemmas in bow_df\n",
    "bow_df[bow_df[\"lemma\"].duplicated(keep=False)].sort_values(by=\"lemma\")"
   ]
  },
  {
   "cell_type": "code",
   "execution_count": null,
   "metadata": {
    "executionInfo": {
     "elapsed": 7,
     "status": "ok",
     "timestamp": 1708028480628,
     "user": {
      "displayName": "",
      "userId": ""
     },
     "user_tz": 0
    },
    "id": "022RvsHNlm1J"
   },
   "outputs": [],
   "source": [
    "# Remove one of the duplicate lemmas to prevent multiple counting\n",
    "bow_df = bow_df.drop_duplicates(subset=\"lemma\", keep=\"first\")"
   ]
  },
  {
   "cell_type": "code",
   "execution_count": null,
   "metadata": {
    "colab": {
     "base_uri": "https://localhost:8080/",
     "height": 237
    },
    "executionInfo": {
     "elapsed": 7,
     "status": "ok",
     "timestamp": 1708028480628,
     "user": {
      "displayName": "",
      "userId": ""
     },
     "user_tz": 0
    },
    "id": "GsKFe2eTlp4c",
    "outputId": "ded31308-2dc8-464f-ea3a-8aace78856ce"
   },
   "outputs": [],
   "source": [
    "bwe_df[bwe_df[\"lemma\"].duplicated(keep=False)].sort_values(by=\"lemma\")"
   ]
  },
  {
   "cell_type": "code",
   "execution_count": null,
   "metadata": {
    "executionInfo": {
     "elapsed": 6,
     "status": "ok",
     "timestamp": 1708028480628,
     "user": {
      "displayName": "",
      "userId": ""
     },
     "user_tz": 0
    },
    "id": "Es-kGTOrlss2"
   },
   "outputs": [],
   "source": [
    "# Remove one of the duplicate lemmas to prevent multiple counting\n",
    "bwe_df = bwe_df.drop_duplicates(subset=\"lemma\", keep=\"first\")"
   ]
  },
  {
   "cell_type": "code",
   "execution_count": null,
   "metadata": {
    "colab": {
     "base_uri": "https://localhost:8080/",
     "height": 112
    },
    "executionInfo": {
     "elapsed": 6,
     "status": "ok",
     "timestamp": 1708028480628,
     "user": {
      "displayName": "",
      "userId": ""
     },
     "user_tz": 0
    },
    "id": "E_cJ2flFnlh8",
    "outputId": "21b95643-1189-4ba1-b7e1-1fd0bee2fe36"
   },
   "outputs": [],
   "source": [
    "# Find duplicate lemmas in cct_df\n",
    "cct_df[cct_df[\"lemma\"].duplicated(keep=False)].sort_values(by=\"lemma\")"
   ]
  },
  {
   "cell_type": "code",
   "execution_count": null,
   "metadata": {
    "executionInfo": {
     "elapsed": 6,
     "status": "ok",
     "timestamp": 1708028480628,
     "user": {
      "displayName": "",
      "userId": ""
     },
     "user_tz": 0
    },
    "id": "P3gRzwV2npm9"
   },
   "outputs": [],
   "source": [
    "# Drop duplicate lemmas from cct_df\n",
    "cct_df = cct_df.drop_duplicates(subset=\"lemma\", keep=\"first\")"
   ]
  },
  {
   "cell_type": "code",
   "execution_count": null,
   "metadata": {
    "colab": {
     "base_uri": "https://localhost:8080/",
     "height": 53
    },
    "executionInfo": {
     "elapsed": 6,
     "status": "ok",
     "timestamp": 1708028480628,
     "user": {
      "displayName": "",
      "userId": ""
     },
     "user_tz": 0
    },
    "id": "4ahi9pfTnrPX",
    "outputId": "05cd1c79-930a-4ae7-e56d-a5a67ad73c30"
   },
   "outputs": [],
   "source": [
    "# Find duplicate lemmas in cmr_df\n",
    "cmr_df[cmr_df[\"lemma\"].duplicated(keep=False)].sort_values(by=\"lemma\")"
   ]
  },
  {
   "cell_type": "code",
   "execution_count": null,
   "metadata": {
    "executionInfo": {
     "elapsed": 5,
     "status": "ok",
     "timestamp": 1708028480628,
     "user": {
      "displayName": "",
      "userId": ""
     },
     "user_tz": 0
    },
    "id": "RInfb5NMnwVw"
   },
   "outputs": [],
   "source": [
    "# Drop duplicate lemmas from cmr_df\n",
    "cmr_df = cmr_df.drop_duplicates(subset=\"lemma\", keep=\"first\")"
   ]
  },
  {
   "cell_type": "code",
   "execution_count": null,
   "metadata": {
    "executionInfo": {
     "elapsed": 5,
     "status": "ok",
     "timestamp": 1708028480628,
     "user": {
      "displayName": "",
      "userId": ""
     },
     "user_tz": 0
    },
    "id": "6mLKYgpPnzSa"
   },
   "outputs": [],
   "source": [
    "# Helper function to find whether a word exists in a text\n",
    "def word_exists_in_text(text, word):\n",
    "    exists = False\n",
    "    if text is not None and word is not None:\n",
    "        text = text.lower()\n",
    "        word = word.lower()\n",
    "        if word in text:\n",
    "            exists = True\n",
    "    return exists"
   ]
  },
  {
   "cell_type": "code",
   "execution_count": null,
   "metadata": {
    "executionInfo": {
     "elapsed": 5,
     "status": "ok",
     "timestamp": 1708028480628,
     "user": {
      "displayName": "",
      "userId": ""
     },
     "user_tz": 0
    },
    "id": "brjBr3AWn5ay"
   },
   "outputs": [],
   "source": [
    "us_states = [\n",
    "    \"alabama\",\n",
    "    \"alaska\",\n",
    "    \"arizona\",\n",
    "    \"arkansas\",\n",
    "    \"california\",\n",
    "    \"colorado\",\n",
    "    \"connecticut\",\n",
    "    \"delaware\",\n",
    "    \"florida\",\n",
    "    \"georgia\",\n",
    "    \"hawaii\",\n",
    "    \"idaho\",\n",
    "    \"illinois\",\n",
    "    \"indiana\",\n",
    "    \"iowa\",\n",
    "    \"kansas\",\n",
    "    \"kentucky\",\n",
    "    \"louisiana\",\n",
    "    \"maine\",\n",
    "    \"maryland\",\n",
    "    \"massachusetts\",\n",
    "    \"michigan\",\n",
    "    \"minnesota\",\n",
    "    \"mississippi\",\n",
    "    \"missouri\",\n",
    "    \"montana\",\n",
    "    \"nebraska\",\n",
    "    \"nevada\",\n",
    "    \"new hampshire\",\n",
    "    \"new jersey\",\n",
    "    \"new mexico\",\n",
    "    \"new york\",\n",
    "    \"north carolina\",\n",
    "    \"north dakota\",\n",
    "    \"ohio\",\n",
    "    \"oklahoma\",\n",
    "    \"oregon\",\n",
    "    \"pennsylvania\",\n",
    "    \"rhode island\",\n",
    "    \"south carolina\",\n",
    "    \"south dakota\",\n",
    "    \"tennessee\",\n",
    "    \"texas\",\n",
    "    \"utah\",\n",
    "    \"vermont\",\n",
    "    \"virginia\",\n",
    "    \"washington\",\n",
    "    \"west virginia\",\n",
    "    \"wisconsin\",\n",
    "    \"wyoming\",\n",
    "    \"usa\",\n",
    "    \"u.s.\",\n",
    "    \"u.s.a.\",\n",
    "    \"united states\",\n",
    "    \"america\",\n",
    "    \"american\",\n",
    "    # \"dc\",\n",
    "    \"d.c.\",\n",
    "    \"district of columbia\"\n",
    "]"
   ]
  },
  {
   "cell_type": "code",
   "execution_count": null,
   "metadata": {
    "executionInfo": {
     "elapsed": 5,
     "status": "ok",
     "timestamp": 1708028480628,
     "user": {
      "displayName": "",
      "userId": ""
     },
     "user_tz": 0
    },
    "id": "j1kxLufde2zz"
   },
   "outputs": [],
   "source": [
    "query = \"\"\"\n",
    "SELECT *\n",
    "FROM analysis.NAME_OF_TABLE_CREATED_IN_CUT_1\n",
    "\"\"\""
   ]
  },
  {
   "cell_type": "code",
   "execution_count": null,
   "metadata": {
    "executionInfo": {
     "elapsed": 1701,
     "status": "ok",
     "timestamp": 1708028482324,
     "user": {
      "displayName": "",
      "userId": ""
     },
     "user_tz": 0
    },
    "id": "t-cGTC3NiBfj"
   },
   "outputs": [],
   "source": [
    "query_job = bigquery_client.query(query)"
   ]
  },
  {
   "cell_type": "code",
   "execution_count": null,
   "metadata": {
    "executionInfo": {
     "elapsed": 15000,
     "status": "ok",
     "timestamp": 1708028497323,
     "user": {
      "displayName": "",
      "userId": ""
     },
     "user_tz": 0
    },
    "id": "-d1jRziLfE5v"
   },
   "outputs": [],
   "source": [
    "orgs = query_job.to_dataframe()"
   ]
  },
  {
   "cell_type": "code",
   "execution_count": null,
   "metadata": {
    "colab": {
     "base_uri": "https://localhost:8080/"
    },
    "executionInfo": {
     "elapsed": 12,
     "status": "ok",
     "timestamp": 1708028497323,
     "user": {
      "displayName": "",
      "userId": ""
     },
     "user_tz": 0
    },
    "id": "NlB0R9O7iUNZ",
    "outputId": "6315ac3c-2193-4b05-b92a-210e9d002028"
   },
   "outputs": [],
   "source": [
    "orgs.shape"
   ]
  },
  {
   "cell_type": "code",
   "execution_count": null,
   "metadata": {
    "colab": {
     "base_uri": "https://localhost:8080/",
     "height": 446
    },
    "executionInfo": {
     "elapsed": 4,
     "status": "ok",
     "timestamp": 1708028497323,
     "user": {
      "displayName": "",
      "userId": ""
     },
     "user_tz": 0
    },
    "id": "NbfmIiESiJB6",
    "outputId": "ea6896cc-553a-4e15-ee09-33ae34e48ec4"
   },
   "outputs": [],
   "source": [
    "orgs.sample(5)"
   ]
  },
  {
   "cell_type": "markdown",
   "metadata": {
    "id": "ghUG7nKR2JZ7"
   },
   "source": [
    "### The code below completes in approximately 2 hours"
   ]
  },
  {
   "cell_type": "code",
   "execution_count": null,
   "metadata": {
    "colab": {
     "base_uri": "https://localhost:8080/"
    },
    "executionInfo": {
     "elapsed": 9594837,
     "status": "ok",
     "timestamp": 1708038092157,
     "user": {
      "displayName": "",
      "userId": ""
     },
     "user_tz": 0
    },
    "id": "x9L3Tf8Ln9JX",
    "outputId": "d6fed8f5-59fa-465e-dda7-9a12f6c1912a"
   },
   "outputs": [],
   "source": [
    "# For each organization, find the total number of times each word in the bag of words appears in the description, call it total_count\n",
    "# In another column called priority_count, find the total number of times each word that has priority = 1 appears in the description\n",
    "# Search within all of these description columns:\n",
    "# mission, description,\n",
    "# prog_srvc_accom_acty_2_grp_desc, prog_srvc_accom_acty_3_grp_desc,\n",
    "# prog_srvc_accom_acty_other_grp_desc, mission_desc, other_expenses_group_desc\n",
    "\n",
    "# Find place names in the mission column using spaCy's NER\n",
    "# If any of the NER spaces are non-US, then flag the org as non-US in a new column\n",
    "\n",
    "for index, row in orgs.iterrows():\n",
    "    mission = find_lemma(row[\"mission\"])\n",
    "    description = find_lemma(row[\"description\"])\n",
    "    business_name = find_lemma(row[\"business_name\"])\n",
    "    prog_srvc_accom_acty_2_grp_desc = find_lemma(row[\"prog_srvc_accom_acty_2_grp_desc\"])\n",
    "    prog_srvc_accom_acty_3_grp_desc = find_lemma(row[\"prog_srvc_accom_acty_3_grp_desc\"])\n",
    "\n",
    "    mission_has_non_us_location = False\n",
    "    if mission is not None:\n",
    "        doc = nlp(mission)\n",
    "        for ent in doc.ents:\n",
    "            if ent.label_ == \"GPE\":\n",
    "                place = ent.text.lower()\n",
    "                if place not in us_states:\n",
    "                    mission_has_non_us_location = True\n",
    "                    break\n",
    "\n",
    "    mission_has_excluded_word = False\n",
    "    mission_excluded_word_list = []\n",
    "    business_name_has_excluded_word = False\n",
    "    business_name_excluded_word_list = []\n",
    "\n",
    "\n",
    "    for word in bow_exclude_list:\n",
    "        if word_exists_in_text(mission, word):\n",
    "            mission_has_excluded_word = True\n",
    "            mission_excluded_word_list.append(word)\n",
    "        if word_exists_in_text(business_name, word):\n",
    "            business_name_has_excluded_word = True\n",
    "            business_name_excluded_word_list.append(word)\n",
    "\n",
    "    mission_excluded_word_list = sorted(list(set(mission_excluded_word_list)))\n",
    "    business_name_excluded_word_list = sorted(list(set(business_name_excluded_word_list)))\n",
    "\n",
    "    # These will be comma separated, alphabetical list of words that matched in the given column\n",
    "    mission_matched_words = []\n",
    "    description_matched_words = []\n",
    "    business_name_matched_words = []\n",
    "    prog_srvc_accom_acty_2_grp_desc_matched_words = []\n",
    "    prog_srvc_accom_acty_3_grp_desc_matched_words = []\n",
    "\n",
    "    mission_matched_words_priority_1A = []\n",
    "    description_matched_words_priority_1A = []\n",
    "    business_name_matched_words_priority_1A = []\n",
    "    prog_srvc_accom_acty_2_grp_desc_matched_words_priority_1A = []\n",
    "    prog_srvc_accom_acty_3_grp_desc_matched_words_priority_1A = []\n",
    "\n",
    "    mission_matched_words_priority_1B = []\n",
    "    description_matched_words_priority_1B = []\n",
    "    business_name_matched_words_priority_1B = []\n",
    "    prog_srvc_accom_acty_2_grp_desc_matched_words_priority_1B = []\n",
    "    prog_srvc_accom_acty_3_grp_desc_matched_words_priority_1B = []\n",
    "\n",
    "    mission_matched_words_priority_1C = []\n",
    "    description_matched_words_priority_1C = []\n",
    "    business_name_matched_words_priority_1C = []\n",
    "    prog_srvc_accom_acty_2_grp_desc_matched_words_priority_1C = []\n",
    "    prog_srvc_accom_acty_3_grp_desc_matched_words_priority_1C = []\n",
    "\n",
    "    orgs.loc[index, \"mission_count\"] = 0\n",
    "    orgs.loc[index, \"description_count\"] = 0\n",
    "    orgs.loc[index, \"business_name_count\"] = 0\n",
    "    orgs.loc[index, \"prog_srvc_accom_acty_2_grp_desc_count\"] = 0\n",
    "    orgs.loc[index, \"prog_srvc_accom_acty_3_grp_desc_count\"] = 0\n",
    "\n",
    "    orgs.loc[index, \"mission_count_priority_1A\"] = 0\n",
    "    orgs.loc[index, \"description_count_priority_1A\"] = 0\n",
    "    orgs.loc[index, \"business_name_count_priority_1A\"] = 0\n",
    "    orgs.loc[index, \"prog_srvc_accom_acty_2_grp_desc_count_priority_1A\"] = 0\n",
    "    orgs.loc[index, \"prog_srvc_accom_acty_3_grp_desc_count_priority_1A\"] = 0\n",
    "\n",
    "    orgs.loc[index, \"mission_count_priority_1B\"] = 0\n",
    "    orgs.loc[index, \"description_count_priority_1B\"] = 0\n",
    "    orgs.loc[index, \"business_name_count_priority_1B\"] = 0\n",
    "    orgs.loc[index, \"prog_srvc_accom_acty_2_grp_desc_count_priority_1B\"] = 0\n",
    "    orgs.loc[index, \"prog_srvc_accom_acty_3_grp_desc_count_priority_1B\"] = 0\n",
    "\n",
    "    orgs.loc[index, \"mission_count_priority_1C\"] = 0\n",
    "    orgs.loc[index, \"description_count_priority_1C\"] = 0\n",
    "    orgs.loc[index, \"business_name_count_priority_1C\"] = 0\n",
    "    orgs.loc[index, \"prog_srvc_accom_acty_2_grp_desc_count_priority_1C\"] = 0\n",
    "    orgs.loc[index, \"prog_srvc_accom_acty_3_grp_desc_count_priority_1C\"] = 0\n",
    "\n",
    "    orgs.loc[index, \"mission_has_non_us_location\"] = mission_has_non_us_location\n",
    "    orgs.loc[index, \"mission_has_excluded_word\"] = mission_has_excluded_word\n",
    "    orgs.loc[index, \"mission_excluded_word_list\"] = \",\".join(mission_excluded_word_list)\n",
    "    orgs.loc[index, \"business_name_has_excluded_word\"] = business_name_has_excluded_word\n",
    "    orgs.loc[index, \"business_name_excluded_word_list\"] = \",\".join(business_name_excluded_word_list)\n",
    "    \n",
    "\n",
    "    if index % 10000 == 0:\n",
    "        print(index, time.strftime(\"%H:%M:%S\"))\n",
    "\n",
    "    for index4, row4 in bow_df.iterrows():\n",
    "        word = row4[\"lemma\"]\n",
    "        priority = row4[\"Priority\"]\n",
    "\n",
    "        if word_exists_in_text(mission, word):\n",
    "            orgs.loc[index, \"mission_count\"] += 1\n",
    "            mission_matched_words.append(word)\n",
    "        if word_exists_in_text(description, word):\n",
    "            orgs.loc[index, \"description_count\"] += 1\n",
    "            description_matched_words.append(word)\n",
    "        if word_exists_in_text(business_name, word):\n",
    "            orgs.loc[index, \"business_name_count\"] += 1\n",
    "            business_name_matched_words.append(word)\n",
    "        if word_exists_in_text(prog_srvc_accom_acty_2_grp_desc, word):\n",
    "            orgs.loc[index, \"prog_srvc_accom_acty_2_grp_desc_count\"] += 1\n",
    "            prog_srvc_accom_acty_2_grp_desc_matched_words.append(word)\n",
    "        if word_exists_in_text(prog_srvc_accom_acty_3_grp_desc, word):\n",
    "            orgs.loc[index, \"prog_srvc_accom_acty_3_grp_desc_count\"] += 1\n",
    "            prog_srvc_accom_acty_3_grp_desc_matched_words.append(word)\n",
    "\n",
    "\n",
    "        if priority == \"1A\":\n",
    "            if word_exists_in_text(mission, word):\n",
    "                orgs.loc[index, \"mission_count_priority_1A\"] += 1\n",
    "                mission_matched_words_priority_1A.append(word)\n",
    "            if word_exists_in_text(description, word):\n",
    "                orgs.loc[index, \"description_count_priority_1A\"] += 1\n",
    "                description_matched_words_priority_1A.append(word)\n",
    "            if word_exists_in_text(business_name, word):\n",
    "                orgs.loc[index, \"business_name_count_priority_1A\"] += 1\n",
    "                business_name_matched_words_priority_1A.append(word)\n",
    "            if word_exists_in_text(prog_srvc_accom_acty_2_grp_desc, word):\n",
    "                orgs.loc[index, \"prog_srvc_accom_acty_2_grp_desc_count_priority_1A\"] += 1\n",
    "                prog_srvc_accom_acty_2_grp_desc_matched_words_priority_1A.append(word)\n",
    "            if word_exists_in_text(prog_srvc_accom_acty_3_grp_desc, word):\n",
    "                orgs.loc[index, \"prog_srvc_accom_acty_3_grp_desc_count_priority_1A\"] += 1\n",
    "                prog_srvc_accom_acty_3_grp_desc_matched_words_priority_1A.append(word)\n",
    "\n",
    "\n",
    "        if priority == \"1B\":\n",
    "            if word_exists_in_text(mission, word):\n",
    "                orgs.loc[index, \"mission_count_priority_1B\"] += 1\n",
    "                mission_matched_words_priority_1B.append(word)\n",
    "            if word_exists_in_text(description, word):\n",
    "                orgs.loc[index, \"description_count_priority_1B\"] += 1\n",
    "                description_matched_words_priority_1B.append(word)\n",
    "            if word_exists_in_text(business_name, word):\n",
    "                orgs.loc[index, \"business_name_count_priority_1B\"] += 1\n",
    "                business_name_matched_words_priority_1B.append(word)\n",
    "            if word_exists_in_text(prog_srvc_accom_acty_2_grp_desc, word):\n",
    "                orgs.loc[index, \"prog_srvc_accom_acty_2_grp_desc_count_priority_1B\"] += 1\n",
    "                prog_srvc_accom_acty_2_grp_desc_matched_words_priority_1B.append(word)\n",
    "            if word_exists_in_text(prog_srvc_accom_acty_3_grp_desc, word):\n",
    "                orgs.loc[index, \"prog_srvc_accom_acty_3_grp_desc_count_priority_1B\"] += 1\n",
    "                prog_srvc_accom_acty_3_grp_desc_matched_words_priority_1B.append(word)\n",
    "\n",
    "\n",
    "        if priority == \"1C\":\n",
    "            if word_exists_in_text(mission, word):\n",
    "                orgs.loc[index, \"mission_count_priority_1C\"] += 1\n",
    "                mission_matched_words_priority_1C.append(word)\n",
    "            if word_exists_in_text(description, word):\n",
    "                orgs.loc[index, \"description_count_priority_1C\"] += 1\n",
    "                description_matched_words_priority_1C.append(word)\n",
    "            if word_exists_in_text(business_name, word):\n",
    "                orgs.loc[index, \"business_name_count_priority_1C\"] += 1\n",
    "                business_name_matched_words_priority_1C.append(word)\n",
    "            if word_exists_in_text(prog_srvc_accom_acty_2_grp_desc, word):\n",
    "                orgs.loc[index, \"prog_srvc_accom_acty_2_grp_desc_count_priority_1C\"] += 1\n",
    "                prog_srvc_accom_acty_2_grp_desc_matched_words_priority_1C.append(word)\n",
    "            if word_exists_in_text(prog_srvc_accom_acty_3_grp_desc, word):\n",
    "                orgs.loc[index, \"prog_srvc_accom_acty_3_grp_desc_count_priority_1C\"] += 1\n",
    "                prog_srvc_accom_acty_3_grp_desc_matched_words_priority_1C.append(word)\n",
    "\n",
    "    orgs.loc[index, \"mission_matched_words\"] = \",\".join(sorted(mission_matched_words))\n",
    "    orgs.loc[index, \"description_matched_words\"] = \",\".join(sorted(description_matched_words))\n",
    "    orgs.loc[index, \"business_name_matched_words\"] = \",\".join(sorted(business_name_matched_words))\n",
    "    orgs.loc[index, \"prog_srvc_accom_acty_2_grp_desc_matched_words\"] = \",\".join(sorted(prog_srvc_accom_acty_2_grp_desc_matched_words))\n",
    "    orgs.loc[index, \"prog_srvc_accom_acty_3_grp_desc_matched_words\"] = \",\".join(sorted(prog_srvc_accom_acty_3_grp_desc_matched_words))\n",
    "\n",
    "    orgs.loc[index, \"mission_matched_words_priority_1A\"] = \",\".join(sorted(mission_matched_words_priority_1A))\n",
    "    orgs.loc[index, \"description_matched_words_priority_1A\"] = \",\".join(sorted(description_matched_words_priority_1A))\n",
    "    orgs.loc[index, \"business_name_matched_words_priority_1A\"] = \",\".join(sorted(business_name_matched_words_priority_1A))\n",
    "    orgs.loc[index, \"prog_srvc_accom_acty_2_grp_desc_matched_words_priority_1A\"] = \",\".join(sorted(prog_srvc_accom_acty_2_grp_desc_matched_words_priority_1A))\n",
    "    orgs.loc[index, \"prog_srvc_accom_acty_3_grp_desc_matched_words_priority_1A\"] = \",\".join(sorted(prog_srvc_accom_acty_3_grp_desc_matched_words_priority_1A))\n",
    "\n",
    "    orgs.loc[index, \"mission_matched_words_priority_1B\"] = \",\".join(sorted(mission_matched_words_priority_1B))\n",
    "    orgs.loc[index, \"description_matched_words_priority_1B\"] = \",\".join(sorted(description_matched_words_priority_1B))\n",
    "    orgs.loc[index, \"business_name_matched_words_priority_1B\"] = \",\".join(sorted(business_name_matched_words_priority_1B))\n",
    "    orgs.loc[index, \"prog_srvc_accom_acty_2_grp_desc_matched_words_priority_1B\"] = \",\".join(sorted(prog_srvc_accom_acty_2_grp_desc_matched_words_priority_1B))\n",
    "    orgs.loc[index, \"prog_srvc_accom_acty_3_grp_desc_matched_words_priority_1B\"] = \",\".join(sorted(prog_srvc_accom_acty_3_grp_desc_matched_words_priority_1B))\n",
    "\n",
    "    orgs.loc[index, \"mission_matched_words_priority_1C\"] = \",\".join(sorted(mission_matched_words_priority_1C))\n",
    "    orgs.loc[index, \"description_matched_words_priority_1C\"] = \",\".join(sorted(description_matched_words_priority_1C))\n",
    "    orgs.loc[index, \"business_name_matched_words_priority_1C\"] = \",\".join(sorted(business_name_matched_words_priority_1C))\n",
    "    orgs.loc[index, \"prog_srvc_accom_acty_2_grp_desc_matched_words_priority_1C\"] = \",\".join(sorted(prog_srvc_accom_acty_2_grp_desc_matched_words_priority_1C))\n",
    "    orgs.loc[index, \"prog_srvc_accom_acty_3_grp_desc_matched_words_priority_1C\"] = \",\".join(sorted(prog_srvc_accom_acty_3_grp_desc_matched_words_priority_1C))\n",
    "\n",
    "    # mission_key_words_list concatenates priority 1A, 1B, and 1C words and presents them in a comma-separated list format.\n",
    "    mission_key_words_list = sorted(list(set(mission_matched_words_priority_1A + mission_matched_words_priority_1B + mission_matched_words_priority_1C)))\n",
    "    description_key_words_list = sorted(list(set(description_matched_words_priority_1A + description_matched_words_priority_1B + description_matched_words_priority_1C)))\n",
    "    business_name_key_words_list = sorted(list(set(business_name_matched_words_priority_1A + business_name_matched_words_priority_1B + business_name_matched_words_priority_1C)))\n",
    "    program_2_key_words_list = sorted(list(set(prog_srvc_accom_acty_2_grp_desc_matched_words_priority_1A + prog_srvc_accom_acty_2_grp_desc_matched_words_priority_1B + prog_srvc_accom_acty_2_grp_desc_matched_words_priority_1C)))\n",
    "    program_3_key_words_list = sorted(list(set(prog_srvc_accom_acty_3_grp_desc_matched_words_priority_1A + prog_srvc_accom_acty_3_grp_desc_matched_words_priority_1B + prog_srvc_accom_acty_3_grp_desc_matched_words_priority_1C)))\n",
    "\n",
    "    orgs.loc[index, \"mission_key_words_list\"] = \",\".join(mission_key_words_list)\n",
    "    orgs.loc[index, \"description_key_words_list\"] = \",\".join(description_key_words_list)\n",
    "    orgs.loc[index, \"business_name_key_words_list\"] = \",\".join(business_name_key_words_list)\n",
    "    orgs.loc[index, \"program_2_key_words_list\"] = \",\".join(program_2_key_words_list)\n",
    "    orgs.loc[index, \"program_3_key_words_list\"] = \",\".join(program_3_key_words_list)\n"
   ]
  },
  {
   "cell_type": "markdown",
   "metadata": {
    "id": "Jrrkd85x2c0V"
   },
   "source": [
    "Enrichment is complete. Let's check some sample orgs"
   ]
  },
  {
   "cell_type": "code",
   "execution_count": null,
   "metadata": {
    "colab": {
     "base_uri": "https://localhost:8080/",
     "height": 828
    },
    "executionInfo": {
     "elapsed": 805,
     "status": "ok",
     "timestamp": 1708038092953,
     "user": {
      "displayName": "",
      "userId": ""
     },
     "user_tz": 0
    },
    "id": "yUZYO0Y5oDg1",
    "outputId": "692f6b12-a0a4-42e1-c673-45c1bc8ea551"
   },
   "outputs": [],
   "source": [
    "orgs.sample(10)"
   ]
  },
  {
   "cell_type": "code",
   "execution_count": null,
   "metadata": {
    "executionInfo": {
     "elapsed": 2,
     "status": "ok",
     "timestamp": 1708038092953,
     "user": {
      "displayName": "",
      "userId": ""
     },
     "user_tz": 0
    },
    "id": "QzAWDJEVoHpO"
   },
   "outputs": [],
   "source": [
    "# Additional columns to help with analysis\n",
    "orgs[\"build_candidate\"] = orgs[\"total_expenses\"] >= 2_000_000"
   ]
  },
  {
   "cell_type": "code",
   "execution_count": null,
   "metadata": {
    "executionInfo": {
     "elapsed": 1134,
     "status": "ok",
     "timestamp": 1708038094085,
     "user": {
      "displayName": "",
      "userId": ""
     },
     "user_tz": 0
    },
    "id": "00h0tI1aoJYX"
   },
   "outputs": [],
   "source": [
    "# Convert \"tax_period_end_date\" column to datetime format\n",
    "orgs[\"tax_period_end_date\"] = pd.to_datetime(orgs[\"tax_period_end_date\"])\n",
    "\n",
    "# Extract year from tax_period_end_date and call it year\n",
    "orgs[\"year\"] = orgs[\"tax_period_end_date\"].dt.year"
   ]
  },
  {
   "cell_type": "code",
   "execution_count": null,
   "metadata": {
    "executionInfo": {
     "elapsed": 11173,
     "status": "ok",
     "timestamp": 1708038105257,
     "user": {
      "displayName": "",
      "userId": ""
     },
     "user_tz": 0
    },
    "id": "S10NAa-OoQQS"
   },
   "outputs": [],
   "source": [
    "orgs.to_csv(f\"orgs_v{version}.csv\", index=False)"
   ]
  },
  {
   "cell_type": "code",
   "execution_count": null,
   "metadata": {
    "executionInfo": {
     "elapsed": 3091,
     "status": "ok",
     "timestamp": 1708038108339,
     "user": {
      "displayName": "",
      "userId": ""
     },
     "user_tz": 0
    },
    "id": "hii8pHw0oV2l"
   },
   "outputs": [],
   "source": [
    "# Persist this table to bigquery\n",
    "client = bigquery.Client(location=location)\n",
    "dataset_id = \"analysis\"\n",
    "table_id = f\"cut_2_v{version}\"\n",
    "# table_id = \"colab_test\"\n",
    "\n",
    "dataset_ref = client.dataset(dataset_id)\n",
    "table_ref = dataset_ref.table(table_id)\n",
    "\n",
    "job_config = bigquery.LoadJobConfig()\n",
    "job_config.write_disposition = bigquery.WriteDisposition.WRITE_TRUNCATE\n",
    "job_config.source_format = bigquery.SourceFormat.CSV\n",
    "job_config.autodetect = True\n",
    "\n",
    "with open(f\"orgs_v{version}.csv\", \"rb\") as source_file:\n",
    "    job = client.load_table_from_file(source_file, table_ref, job_config=job_config)"
   ]
  },
  {
   "cell_type": "markdown",
   "metadata": {
    "id": "E1ttWMIMx6i8"
   },
   "source": [
    "Apply the filters to the enriched Cut 2 table"
   ]
  },
  {
   "cell_type": "code",
   "execution_count": null,
   "metadata": {
    "executionInfo": {
     "elapsed": 423,
     "status": "ok",
     "timestamp": 1708038242605,
     "user": {
      "displayName": "",
      "userId": ""
     },
     "user_tz": 0
    },
    "id": "_wE2pzflx5eQ"
   },
   "outputs": [],
   "source": [
    "filter_query = f\"\"\"\n",
    "CREATE OR REPLACE TABLE analysis.cut_2_v{version}_filtered AS\n",
    "SELECT *\n",
    "FROM analysis.cut_2_v{version}\n",
    "WHERE\n",
    "-- Below has to be True for ALL orgs\n",
    "NOT mission_has_non_us_location -- Condition 2\n",
    "AND NOT mission_has_excluded_word\n",
    "AND\n",
    "-- Below has to be True for ANY org\n",
    "( mission_count_priority_1A >= 1  -- Condition 3\n",
    "  OR mission_count_priority_1B >= 2 -- Condition 4\n",
    "  OR (mission_count_priority_1B + mission_count_priority_1C >= 3) -- Condition 5\n",
    "  OR mission_count >= 6 -- Condition 6\n",
    ")\n",
    "-- The new condition for removing orgs that has a single 1A word but nothing else\n",
    "AND NOT (\n",
    "  mission_count = 1\n",
    "  AND mission_count_priority_1A = 1\n",
    "  AND description_count_priority_1A = 0\n",
    "  AND prog_srvc_accom_acty_2_grp_desc_count_priority_1A = 0\n",
    "  AND prog_srvc_accom_acty_3_grp_desc_count_priority_1A = 0\n",
    ")\n",
    "-- Reapply the revenue conditions (because additional orgs didn't go through that check)\n",
    "AND total_revenue BETWEEN 250000 AND 24000000\n",
    "AND total_expenses BETWEEN 250000 AND 18000000\n",
    ";\n",
    "\"\"\""
   ]
  },
  {
   "cell_type": "code",
   "execution_count": null,
   "metadata": {
    "executionInfo": {
     "elapsed": 688,
     "status": "ok",
     "timestamp": 1708038245363,
     "user": {
      "displayName": "",
      "userId": ""
     },
     "user_tz": 0
    },
    "id": "rO_33XQByXSv"
   },
   "outputs": [],
   "source": [
    "filter_query_job = bigquery_client.query(filter_query)"
   ]
  },
  {
   "cell_type": "markdown",
   "metadata": {
    "id": "iSE8H4KW0yNL"
   },
   "source": [
    "Create the historical table"
   ]
  },
  {
   "cell_type": "code",
   "execution_count": null,
   "metadata": {
    "executionInfo": {
     "elapsed": 355,
     "status": "ok",
     "timestamp": 1708038247873,
     "user": {
      "displayName": "",
      "userId": ""
     },
     "user_tz": 0
    },
    "id": "imoZj5YJ0xrh"
   },
   "outputs": [],
   "source": [
    "history_query = f\"\"\"\n",
    "CREATE OR REPLACE TABLE analysis.cut_2_v{version}_filtered_historical AS\n",
    "SELECT c.* EXCEPT\n",
    "  (\n",
    "    ein,\n",
    "    return_timestamp,\n",
    "    tax_period_end_date,\n",
    "    business_name,\n",
    "    address,\n",
    "    city,\n",
    "    state,\n",
    "    zip,\n",
    "    phone,\n",
    "    business_officer_name,\n",
    "    business_officer_title,\n",
    "    website,\n",
    "    formation_year,\n",
    "    mission,\n",
    "    voting_members_count,\n",
    "    total_employee_count,\n",
    "    total_volunteer_count,\n",
    "    revenue_from_grants,\n",
    "    revenue_from_program_services,\n",
    "    revenue_from_investment,\n",
    "    revenue_from_other,\n",
    "    total_revenue,\n",
    "    expenses_for_grants,\n",
    "    expenses_for_members,\n",
    "    expenses_for_employees,\n",
    "    expenses_for_professional_fundraising,\n",
    "    expenses_for_other,\n",
    "    total_expenses,\n",
    "    principal_office_salary,\n",
    "    states_where_form_990_filed,\n",
    "    states_where_form_990_filed_count,\n",
    "    description,\n",
    "    prog_srvc_accom_acty_2_grp_desc,\n",
    "    prog_srvc_accom_acty_3_grp_desc,\n",
    "    prog_srvc_accom_acty_other_grp_desc,\n",
    "    mission_desc,\n",
    "    other_expenses_group_desc\n",
    "  ),\n",
    "  i.*,\n",
    "  EXTRACT(YEAR FROM i.tax_period_end_date) AS return_year\n",
    "FROM analysis.cut_2_v{version}_filtered AS c\n",
    "LEFT JOIN original.irs_990_latest AS i ON CAST(c.ein AS STRING) = i.ein\n",
    ";\n",
    "\"\"\""
   ]
  },
  {
   "cell_type": "code",
   "execution_count": null,
   "metadata": {
    "executionInfo": {
     "elapsed": 1250,
     "status": "ok",
     "timestamp": 1708038252223,
     "user": {
      "displayName": "",
      "userId": ""
     },
     "user_tz": 0
    },
    "id": "WQml4jf-yqiZ"
   },
   "outputs": [],
   "source": [
    "history_query_job = bigquery_client.query(history_query)"
   ]
  }
 ],
 "metadata": {
  "colab": {
   "cell_execution_strategy": "setup",
   "name": "BigQuery table",
   "provenance": []
  },
  "kernelspec": {
   "display_name": "Python 3 (ipykernel)",
   "language": "python",
   "name": "python3"
  },
  "language_info": {
   "codemirror_mode": {
    "name": "ipython",
    "version": 3
   },
   "file_extension": ".py",
   "mimetype": "text/x-python",
   "name": "python",
   "nbconvert_exporter": "python",
   "pygments_lexer": "ipython3",
   "version": "3.9.18"
  }
 },
 "nbformat": 4,
 "nbformat_minor": 1
}
