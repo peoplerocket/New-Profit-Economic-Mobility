{
 "cells": [
  {
   "cell_type": "code",
   "execution_count": 1,
   "metadata": {
    "executionInfo": {
     "elapsed": 2,
     "status": "ok",
     "timestamp": 1707958831255,
     "user": {
      "displayName": "",
      "userId": ""
     },
     "user_tz": 0
    },
    "id": "V4y-4Wu2hJwm"
   },
   "outputs": [],
   "source": [
    "import google.auth\n",
    "from google.cloud import bigquery"
   ]
  },
  {
   "cell_type": "code",
   "execution_count": 2,
   "metadata": {
    "executionInfo": {
     "elapsed": 323,
     "status": "ok",
     "timestamp": 1707958833764,
     "user": {
      "displayName": "",
      "userId": ""
     },
     "user_tz": 0
    },
    "id": "pV03Hy0EElaT"
   },
   "outputs": [],
   "source": [
    "# The source data is in Google Drive and the target table is in Bigquery\n",
    "# So we need to add these scopes to the authentication request\n",
    "scopes = [\n",
    "    \"https://www.googleapis.com/auth/drive\",\n",
    "    \"https://www.googleapis.com/auth/bigquery\",\n",
    "    ]"
   ]
  },
  {
   "cell_type": "code",
   "execution_count": 3,
   "metadata": {
    "executionInfo": {
     "elapsed": 1,
     "status": "ok",
     "timestamp": 1707958835188,
     "user": {
      "displayName": "",
      "userId": ""
     },
     "user_tz": 0
    },
    "id": "bn-PS5oeEzp9"
   },
   "outputs": [],
   "source": [
    "# Authenticate with Google\n",
    "credentials, project = google.auth.default(scopes=scopes)"
   ]
  },
  {
   "cell_type": "code",
   "execution_count": 4,
   "metadata": {
    "executionInfo": {
     "elapsed": 300,
     "status": "ok",
     "timestamp": 1707958837506,
     "user": {
      "displayName": "",
      "userId": ""
     },
     "user_tz": 0
    },
    "id": "GOKup8mOEhwO"
   },
   "outputs": [],
   "source": [
    "# Initialize the BigQuery client\n",
    "bq_client = bigquery.Client(credentials=credentials, project=project)"
   ]
  },
  {
   "cell_type": "code",
   "execution_count": 5,
   "metadata": {
    "executionInfo": {
     "elapsed": 305,
     "status": "ok",
     "timestamp": 1707958841507,
     "user": {
      "displayName": "",
      "userId": ""
     },
     "user_tz": 0
    },
    "id": "gWV-lgPeDxp_"
   },
   "outputs": [],
   "source": [
    "# Get the dataset reference, which, coincidentally, is called \"reference\"\n",
    "dataset_name = \"reference\"\n",
    "dataset_ref = bq_client.get_dataset(dataset_name)"
   ]
  },
  {
   "cell_type": "code",
   "execution_count": 6,
   "metadata": {
    "executionInfo": {
     "elapsed": 315,
     "status": "ok",
     "timestamp": 1707958855354,
     "user": {
      "displayName": "",
      "userId": ""
     },
     "user_tz": 0
    },
    "id": "UeLJyv4CFMfJ"
   },
   "outputs": [],
   "source": [
    "# Get the Additional Organizations table reference\n",
    "ao_table_name = \"additional_organizations\" # ao = additional organizations\n",
    "ao_table_ref = dataset_ref.table(ao_table_name)"
   ]
  },
  {
   "cell_type": "code",
   "execution_count": 7,
   "metadata": {
    "executionInfo": {
     "elapsed": 309,
     "status": "ok",
     "timestamp": 1707958857094,
     "user": {
      "displayName": "",
      "userId": ""
     },
     "user_tz": 0
    },
    "id": "E6TsKBRfFSYp"
   },
   "outputs": [],
   "source": [
    "# Define Additional Organizations table schema\n",
    "ao_schema = [\n",
    "    bigquery.SchemaField(\"EIN\", \"INTEGER\"),\n",
    "    bigquery.SchemaField(\"NAME\", \"STRING\"),\n",
    "    bigquery.SchemaField(\"ICO\", \"STRING\"),\n",
    "    bigquery.SchemaField(\"STREET\", \"STRING\"),\n",
    "    bigquery.SchemaField(\"CITY\", \"STRING\"),\n",
    "    bigquery.SchemaField(\"STATE\", \"STRING\"),\n",
    "    bigquery.SchemaField(\"ZIP\", \"STRING\"),\n",
    "    bigquery.SchemaField(\"GROUP\", \"INTEGER\"),\n",
    "    bigquery.SchemaField(\"SUBSECTION\", \"INTEGER\"),\n",
    "    bigquery.SchemaField(\"AFFILIATION\", \"INTEGER\"),\n",
    "    bigquery.SchemaField(\"CLASSIFICATION\", \"INTEGER\"),\n",
    "    bigquery.SchemaField(\"RULING\", \"INTEGER\"),\n",
    "    bigquery.SchemaField(\"DEDUCTIBILITY\", \"INTEGER\"),\n",
    "    bigquery.SchemaField(\"FOUNDATION\", \"INTEGER\"),\n",
    "    bigquery.SchemaField(\"ACTIVITY\", \"INTEGER\"),\n",
    "    bigquery.SchemaField(\"ORGANIZATION\", \"INTEGER\"),\n",
    "    bigquery.SchemaField(\"STATUS\", \"INTEGER\"),\n",
    "    bigquery.SchemaField(\"TAX_PERIOD\", \"INTEGER\"),\n",
    "    bigquery.SchemaField(\"ASSET_CD\", \"INTEGER\"),\n",
    "    bigquery.SchemaField(\"INCOME_CD\", \"INTEGER\"),\n",
    "    bigquery.SchemaField(\"FILING_REQ_CD\", \"INTEGER\"),\n",
    "    bigquery.SchemaField(\"PF_FILING_REQ_CD\", \"INTEGER\"),\n",
    "    bigquery.SchemaField(\"ACCT_PD\", \"INTEGER\"),\n",
    "    bigquery.SchemaField(\"ASSET_AMT\", \"INTEGER\"),\n",
    "    bigquery.SchemaField(\"INCOME_AMT\", \"INTEGER\"),\n",
    "    bigquery.SchemaField(\"REVENUE_AMT\", \"INTEGER\"),\n",
    "    bigquery.SchemaField(\"NTEE_CD\", \"STRING\"),\n",
    "    bigquery.SchemaField(\"SORT_NAME\", \"STRING\")\n",
    "]"
   ]
  },
  {
   "cell_type": "code",
   "execution_count": 8,
   "metadata": {
    "executionInfo": {
     "elapsed": 316,
     "status": "ok",
     "timestamp": 1707958862042,
     "user": {
      "displayName": "",
      "userId": ""
     },
     "user_tz": 0
    },
    "id": "OKrRg2KQG6wU"
   },
   "outputs": [],
   "source": [
    "# Initialize the BiqQuery table\n",
    "ao_table = bigquery.Table(table_ref=ao_table_ref, schema=ao_schema)"
   ]
  },
  {
   "cell_type": "code",
   "execution_count": 9,
   "metadata": {
    "executionInfo": {
     "elapsed": 882,
     "status": "ok",
     "timestamp": 1707958870421,
     "user": {
      "displayName": "",
      "userId": ""
     },
     "user_tz": 0
    },
    "id": "LNVPLvAXHFPU"
   },
   "outputs": [],
   "source": [
    "# The source table is an external data source, in this case Google Sheets\n",
    "# Here we initialize this configuration for the additional orgs table\n",
    "ao_external_config = bigquery.ExternalConfig(\"GOOGLE_SHEETS\")"
   ]
  },
  {
   "cell_type": "code",
   "execution_count": 10,
   "metadata": {
    "executionInfo": {
     "elapsed": 1,
     "status": "ok",
     "timestamp": 1707958873316,
     "user": {
      "displayName": "",
      "userId": ""
     },
     "user_tz": 0
    },
    "id": "Kp6S44pWHabI"
   },
   "outputs": [],
   "source": [
    "ao_sheet_url = \"INSERT ADDITIONAL ORGANIZATIONS IF NECESSARY, OTHERWISE OMIT\"\n",
    "ao_sheet_name = \"INSERT SHEET NAME\""
   ]
  },
  {
   "cell_type": "code",
   "execution_count": 11,
   "metadata": {
    "executionInfo": {
     "elapsed": 826,
     "status": "ok",
     "timestamp": 1707958877785,
     "user": {
      "displayName": "",
      "userId": ""
     },
     "user_tz": 0
    },
    "id": "IYGYSHk8HKPy"
   },
   "outputs": [],
   "source": [
    "ao_external_config.source_uris = [ao_sheet_url]\n",
    "ao_external_config.options.skip_leading_rows = 1\n",
    "ao_table.external_data_configuration = ao_external_config"
   ]
  },
  {
   "cell_type": "code",
   "execution_count": 12,
   "metadata": {
    "colab": {
     "base_uri": "https://localhost:8080/"
    },
    "executionInfo": {
     "elapsed": 633,
     "status": "ok",
     "timestamp": 1707958881220,
     "user": {
      "displayName": "",
      "userId": ""
     },
     "user_tz": 0
    },
    "id": "-wPDJ7-sHqgh",
    "outputId": "7bb8449c-3d79-4bdd-e03b-967c45913688"
   },
   "outputs": [
    {
     "data": {
      "text/plain": [
       "Table(TableReference(DatasetReference('decent-carving-397313', 'reference'), 'additional_organizations'))"
      ]
     },
     "execution_count": 12,
     "metadata": {},
     "output_type": "execute_result"
    }
   ],
   "source": [
    "# Create the additional organizations table\n",
    "bq_client.create_table(ao_table, exists_ok=True)"
   ]
  },
  {
   "cell_type": "code",
   "execution_count": 13,
   "metadata": {
    "executionInfo": {
     "elapsed": 303,
     "status": "ok",
     "timestamp": 1707958910618,
     "user": {
      "displayName": "",
      "userId": ""
     },
     "user_tz": 0
    },
    "id": "peqjc9dyMMSS"
   },
   "outputs": [],
   "source": [
    "acs_table_name = \"acs_data_final\"\n",
    "acs_table_ref = dataset_ref.table(acs_table_name)"
   ]
  },
  {
   "cell_type": "code",
   "execution_count": 14,
   "metadata": {
    "executionInfo": {
     "elapsed": 340,
     "status": "ok",
     "timestamp": 1707958913980,
     "user": {
      "displayName": "",
      "userId": ""
     },
     "user_tz": 0
    },
    "id": "TRXVvNqJMZAh"
   },
   "outputs": [],
   "source": [
    "acs_schema = [\n",
    "    bigquery.SchemaField(\"geo_id\", \"STRING\"),\n",
    "    bigquery.SchemaField(\"name\", \"STRING\"),\n",
    "    bigquery.SchemaField(\"unemployment_rate_percent\", \"FLOAT64\"),\n",
    "    bigquery.SchemaField(\"labor_force_participation_rate_percent\", \"FLOAT64\"),\n",
    "    bigquery.SchemaField(\"less_than_hs_percent\", \"FLOAT64\"),\n",
    "    bigquery.SchemaField(\"total_population\", \"INT64\"),\n",
    "    bigquery.SchemaField(\"median_household_income\", \"INT64\"),\n",
    "    bigquery.SchemaField(\"gini\", \"FLOAT64\"),\n",
    "    bigquery.SchemaField(\"gini_percentile\", \"FLOAT64\"),\n",
    "    bigquery.SchemaField(\"gini_top_twenty\", \"BOOL\"),\n",
    "]"
   ]
  },
  {
   "cell_type": "code",
   "execution_count": 15,
   "metadata": {
    "executionInfo": {
     "elapsed": 304,
     "status": "ok",
     "timestamp": 1707958916577,
     "user": {
      "displayName": "",
      "userId": ""
     },
     "user_tz": 0
    },
    "id": "h2yJeihfM3iF"
   },
   "outputs": [],
   "source": [
    "acs_table = bigquery.Table(table_ref=acs_table_ref, schema=acs_schema)"
   ]
  },
  {
   "cell_type": "code",
   "execution_count": 16,
   "metadata": {
    "executionInfo": {
     "elapsed": 301,
     "status": "ok",
     "timestamp": 1707958918945,
     "user": {
      "displayName": "",
      "userId": ""
     },
     "user_tz": 0
    },
    "id": "l7l_KfANRf8T"
   },
   "outputs": [],
   "source": [
    "acs_external_config = bigquery.ExternalConfig(\"GOOGLE_SHEETS\")"
   ]
  },
  {
   "cell_type": "code",
   "execution_count": 17,
   "metadata": {
    "executionInfo": {
     "elapsed": 309,
     "status": "ok",
     "timestamp": 1707958920967,
     "user": {
      "displayName": "",
      "userId": ""
     },
     "user_tz": 0
    },
    "id": "6f80ApzsRlMq"
   },
   "outputs": [],
   "source": [
    "acs_sheet_url = \"INSERT AMERICAN COMMUNITY SURVEY DATA FRAME IF NECESSARY OTHERWISE OMIT\"\n",
    "acs_sheet_name = \"INSERT SHEET NAME\""
   ]
  },
  {
   "cell_type": "code",
   "execution_count": 18,
   "metadata": {
    "executionInfo": {
     "elapsed": 324,
     "status": "ok",
     "timestamp": 1707958923871,
     "user": {
      "displayName": "",
      "userId": ""
     },
     "user_tz": 0
    },
    "id": "gICXZJ-aRuXT"
   },
   "outputs": [],
   "source": [
    "acs_external_config.source_uris = [acs_sheet_url]\n",
    "acs_external_config.options.skip_leading_rows = 1\n",
    "acs_table.external_data_configuration = acs_external_config"
   ]
  },
  {
   "cell_type": "code",
   "execution_count": 19,
   "metadata": {
    "colab": {
     "base_uri": "https://localhost:8080/"
    },
    "executionInfo": {
     "elapsed": 618,
     "status": "ok",
     "timestamp": 1707958962584,
     "user": {
      "displayName": "",
      "userId": ""
     },
     "user_tz": 0
    },
    "id": "l36ft-FiSSIP",
    "outputId": "3e94266a-78dd-48b6-c125-51fc60cece6c"
   },
   "outputs": [
    {
     "data": {
      "text/plain": [
       "Table(TableReference(DatasetReference('decent-carving-397313', 'reference'), 'acs_data_final'))"
      ]
     },
     "execution_count": 19,
     "metadata": {},
     "output_type": "execute_result"
    }
   ],
   "source": [
    "# Create the ACS data final table\n",
    "bq_client.create_table(acs_table, exists_ok=True)"
   ]
  }
 ],
 "metadata": {
  "colab": {
   "cell_execution_strategy": "setup",
   "name": "BigQuery table",
   "provenance": []
  },
  "kernelspec": {
   "display_name": "Python 3 (ipykernel)",
   "language": "python",
   "name": "python3"
  },
  "language_info": {
   "codemirror_mode": {
    "name": "ipython",
    "version": 3
   },
   "file_extension": ".py",
   "mimetype": "text/x-python",
   "name": "python",
   "nbconvert_exporter": "python",
   "pygments_lexer": "ipython3",
   "version": "3.9.18"
  }
 },
 "nbformat": 4,
 "nbformat_minor": 1
}
